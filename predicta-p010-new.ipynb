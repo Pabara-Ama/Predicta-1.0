{
 "cells": [
  {
   "cell_type": "code",
   "execution_count": 1,
   "id": "a68acc81",
   "metadata": {
    "_cell_guid": "b1076dfc-b9ad-4769-8c92-a6c4dae69d19",
    "_uuid": "8f2839f25d086af736a60e9eeb907d3b93b6e0e5",
    "execution": {
     "iopub.execute_input": "2024-06-23T18:00:07.556758Z",
     "iopub.status.busy": "2024-06-23T18:00:07.556045Z",
     "iopub.status.idle": "2024-06-23T18:00:08.573571Z",
     "shell.execute_reply": "2024-06-23T18:00:08.572240Z"
    },
    "papermill": {
     "duration": 1.028545,
     "end_time": "2024-06-23T18:00:08.576399",
     "exception": false,
     "start_time": "2024-06-23T18:00:07.547854",
     "status": "completed"
    },
    "tags": []
   },
   "outputs": [
    {
     "name": "stdout",
     "output_type": "stream",
     "text": [
      "/kaggle/input/predicta-1-0-predict-the-unpredictable/submission_key.csv\n",
      "/kaggle/input/predicta-1-0-predict-the-unpredictable/sample_submission.csv\n",
      "/kaggle/input/predicta-1-0-predict-the-unpredictable/historical_weather.csv\n"
     ]
    }
   ],
   "source": [
    "import numpy as np # linear algebra\n",
    "import pandas as pd # data processing, CSV file I/O (e.g. pd.read_csv)\n",
    "\n",
    "import os\n",
    "for dirname, _, filenames in os.walk('/kaggle/input'):\n",
    "    for filename in filenames:\n",
    "        print(os.path.join(dirname, filename))"
   ]
  },
  {
   "cell_type": "code",
   "execution_count": 2,
   "id": "402c2124",
   "metadata": {
    "execution": {
     "iopub.execute_input": "2024-06-23T18:00:08.588399Z",
     "iopub.status.busy": "2024-06-23T18:00:08.587901Z",
     "iopub.status.idle": "2024-06-23T18:00:10.134851Z",
     "shell.execute_reply": "2024-06-23T18:00:10.133691Z"
    },
    "papermill": {
     "duration": 1.556142,
     "end_time": "2024-06-23T18:00:10.137806",
     "exception": false,
     "start_time": "2024-06-23T18:00:08.581664",
     "status": "completed"
    },
    "tags": []
   },
   "outputs": [],
   "source": [
    "import seaborn as sns\n",
    "import matplotlib.pyplot as plt\n",
    "from matplotlib.pyplot import figure\n",
    "import seaborn as sns\n",
    "import datetime"
   ]
  },
  {
   "cell_type": "code",
   "execution_count": 3,
   "id": "12176931",
   "metadata": {
    "execution": {
     "iopub.execute_input": "2024-06-23T18:00:10.149590Z",
     "iopub.status.busy": "2024-06-23T18:00:10.149181Z",
     "iopub.status.idle": "2024-06-23T18:00:10.427981Z",
     "shell.execute_reply": "2024-06-23T18:00:10.426590Z"
    },
    "papermill": {
     "duration": 0.287709,
     "end_time": "2024-06-23T18:00:10.430547",
     "exception": false,
     "start_time": "2024-06-23T18:00:10.142838",
     "status": "completed"
    },
    "tags": []
   },
   "outputs": [
    {
     "data": {
      "text/html": [
       "<div>\n",
       "<style scoped>\n",
       "    .dataframe tbody tr th:only-of-type {\n",
       "        vertical-align: middle;\n",
       "    }\n",
       "\n",
       "    .dataframe tbody tr th {\n",
       "        vertical-align: top;\n",
       "    }\n",
       "\n",
       "    .dataframe thead th {\n",
       "        text-align: right;\n",
       "    }\n",
       "</style>\n",
       "<table border=\"1\" class=\"dataframe\">\n",
       "  <thead>\n",
       "    <tr style=\"text-align: right;\">\n",
       "      <th></th>\n",
       "      <th>city_id</th>\n",
       "      <th>date</th>\n",
       "      <th>avg_temp_c</th>\n",
       "      <th>min_temp_c</th>\n",
       "      <th>max_temp_c</th>\n",
       "      <th>precipitation_mm</th>\n",
       "      <th>snow_depth_mm</th>\n",
       "      <th>avg_wind_dir_deg</th>\n",
       "      <th>avg_wind_speed_kmh</th>\n",
       "    </tr>\n",
       "  </thead>\n",
       "  <tbody>\n",
       "    <tr>\n",
       "      <th>0</th>\n",
       "      <td>C001</td>\n",
       "      <td>2014-01-01</td>\n",
       "      <td>6.6</td>\n",
       "      <td>-1.4</td>\n",
       "      <td>11.6</td>\n",
       "      <td>NaN</td>\n",
       "      <td>NaN</td>\n",
       "      <td>168.0</td>\n",
       "      <td>6.2</td>\n",
       "    </tr>\n",
       "    <tr>\n",
       "      <th>1</th>\n",
       "      <td>C001</td>\n",
       "      <td>2014-01-02</td>\n",
       "      <td>9.3</td>\n",
       "      <td>6.3</td>\n",
       "      <td>13.3</td>\n",
       "      <td>NaN</td>\n",
       "      <td>NaN</td>\n",
       "      <td>155.0</td>\n",
       "      <td>10.0</td>\n",
       "    </tr>\n",
       "    <tr>\n",
       "      <th>2</th>\n",
       "      <td>C001</td>\n",
       "      <td>2014-01-03</td>\n",
       "      <td>7.6</td>\n",
       "      <td>1.9</td>\n",
       "      <td>14.0</td>\n",
       "      <td>NaN</td>\n",
       "      <td>NaN</td>\n",
       "      <td>NaN</td>\n",
       "      <td>5.8</td>\n",
       "    </tr>\n",
       "    <tr>\n",
       "      <th>3</th>\n",
       "      <td>C001</td>\n",
       "      <td>2014-01-04</td>\n",
       "      <td>7.6</td>\n",
       "      <td>3.9</td>\n",
       "      <td>13.3</td>\n",
       "      <td>NaN</td>\n",
       "      <td>NaN</td>\n",
       "      <td>291.0</td>\n",
       "      <td>11.3</td>\n",
       "    </tr>\n",
       "    <tr>\n",
       "      <th>4</th>\n",
       "      <td>C001</td>\n",
       "      <td>2014-01-05</td>\n",
       "      <td>8.6</td>\n",
       "      <td>0.5</td>\n",
       "      <td>16.9</td>\n",
       "      <td>NaN</td>\n",
       "      <td>NaN</td>\n",
       "      <td>NaN</td>\n",
       "      <td>5.0</td>\n",
       "    </tr>\n",
       "  </tbody>\n",
       "</table>\n",
       "</div>"
      ],
      "text/plain": [
       "  city_id        date  avg_temp_c  min_temp_c  max_temp_c  precipitation_mm  \\\n",
       "0    C001  2014-01-01         6.6        -1.4        11.6               NaN   \n",
       "1    C001  2014-01-02         9.3         6.3        13.3               NaN   \n",
       "2    C001  2014-01-03         7.6         1.9        14.0               NaN   \n",
       "3    C001  2014-01-04         7.6         3.9        13.3               NaN   \n",
       "4    C001  2014-01-05         8.6         0.5        16.9               NaN   \n",
       "\n",
       "   snow_depth_mm  avg_wind_dir_deg  avg_wind_speed_kmh  \n",
       "0            NaN             168.0                 6.2  \n",
       "1            NaN             155.0                10.0  \n",
       "2            NaN               NaN                 5.8  \n",
       "3            NaN             291.0                11.3  \n",
       "4            NaN               NaN                 5.0  "
      ]
     },
     "execution_count": 3,
     "metadata": {},
     "output_type": "execute_result"
    }
   ],
   "source": [
    "df = pd.read_csv(\"/kaggle/input/predicta-1-0-predict-the-unpredictable/historical_weather.csv\")\n",
    "df.head()"
   ]
  },
  {
   "cell_type": "code",
   "execution_count": 4,
   "id": "d98f918d",
   "metadata": {
    "execution": {
     "iopub.execute_input": "2024-06-23T18:00:10.442637Z",
     "iopub.status.busy": "2024-06-23T18:00:10.442254Z",
     "iopub.status.idle": "2024-06-23T18:00:10.449516Z",
     "shell.execute_reply": "2024-06-23T18:00:10.448381Z"
    },
    "papermill": {
     "duration": 0.016011,
     "end_time": "2024-06-23T18:00:10.451872",
     "exception": false,
     "start_time": "2024-06-23T18:00:10.435861",
     "status": "completed"
    },
    "tags": []
   },
   "outputs": [
    {
     "data": {
      "text/plain": [
       "(182338, 9)"
      ]
     },
     "execution_count": 4,
     "metadata": {},
     "output_type": "execute_result"
    }
   ],
   "source": [
    "df.shape"
   ]
  },
  {
   "cell_type": "code",
   "execution_count": 5,
   "id": "9e960dd2",
   "metadata": {
    "execution": {
     "iopub.execute_input": "2024-06-23T18:00:10.464254Z",
     "iopub.status.busy": "2024-06-23T18:00:10.463848Z",
     "iopub.status.idle": "2024-06-23T18:00:10.563626Z",
     "shell.execute_reply": "2024-06-23T18:00:10.562321Z"
    },
    "papermill": {
     "duration": 0.109381,
     "end_time": "2024-06-23T18:00:10.566559",
     "exception": false,
     "start_time": "2024-06-23T18:00:10.457178",
     "status": "completed"
    },
    "tags": []
   },
   "outputs": [
    {
     "data": {
      "text/html": [
       "<div>\n",
       "<style scoped>\n",
       "    .dataframe tbody tr th:only-of-type {\n",
       "        vertical-align: middle;\n",
       "    }\n",
       "\n",
       "    .dataframe tbody tr th {\n",
       "        vertical-align: top;\n",
       "    }\n",
       "\n",
       "    .dataframe thead th {\n",
       "        text-align: right;\n",
       "    }\n",
       "</style>\n",
       "<table border=\"1\" class=\"dataframe\">\n",
       "  <thead>\n",
       "    <tr style=\"text-align: right;\">\n",
       "      <th></th>\n",
       "      <th>avg_temp_c</th>\n",
       "      <th>min_temp_c</th>\n",
       "      <th>max_temp_c</th>\n",
       "      <th>precipitation_mm</th>\n",
       "      <th>snow_depth_mm</th>\n",
       "      <th>avg_wind_dir_deg</th>\n",
       "      <th>avg_wind_speed_kmh</th>\n",
       "    </tr>\n",
       "  </thead>\n",
       "  <tbody>\n",
       "    <tr>\n",
       "      <th>count</th>\n",
       "      <td>181114.000000</td>\n",
       "      <td>176452.000000</td>\n",
       "      <td>174845.000000</td>\n",
       "      <td>112594.000000</td>\n",
       "      <td>12238.000000</td>\n",
       "      <td>146944.000000</td>\n",
       "      <td>159866.000000</td>\n",
       "    </tr>\n",
       "    <tr>\n",
       "      <th>mean</th>\n",
       "      <td>19.137516</td>\n",
       "      <td>14.627775</td>\n",
       "      <td>23.887261</td>\n",
       "      <td>3.679964</td>\n",
       "      <td>342.481696</td>\n",
       "      <td>175.650289</td>\n",
       "      <td>11.281875</td>\n",
       "    </tr>\n",
       "    <tr>\n",
       "      <th>std</th>\n",
       "      <td>9.902722</td>\n",
       "      <td>10.004998</td>\n",
       "      <td>10.446670</td>\n",
       "      <td>11.294167</td>\n",
       "      <td>1020.265388</td>\n",
       "      <td>105.435150</td>\n",
       "      <td>6.132884</td>\n",
       "    </tr>\n",
       "    <tr>\n",
       "      <th>min</th>\n",
       "      <td>-34.700000</td>\n",
       "      <td>-43.800000</td>\n",
       "      <td>-28.500000</td>\n",
       "      <td>0.000000</td>\n",
       "      <td>0.000000</td>\n",
       "      <td>0.000000</td>\n",
       "      <td>0.000000</td>\n",
       "    </tr>\n",
       "    <tr>\n",
       "      <th>25%</th>\n",
       "      <td>12.400000</td>\n",
       "      <td>7.500000</td>\n",
       "      <td>17.100000</td>\n",
       "      <td>0.000000</td>\n",
       "      <td>0.000000</td>\n",
       "      <td>83.000000</td>\n",
       "      <td>7.200000</td>\n",
       "    </tr>\n",
       "    <tr>\n",
       "      <th>50%</th>\n",
       "      <td>21.400000</td>\n",
       "      <td>16.200000</td>\n",
       "      <td>27.000000</td>\n",
       "      <td>0.000000</td>\n",
       "      <td>10.000000</td>\n",
       "      <td>178.000000</td>\n",
       "      <td>9.900000</td>\n",
       "    </tr>\n",
       "    <tr>\n",
       "      <th>75%</th>\n",
       "      <td>27.100000</td>\n",
       "      <td>23.300000</td>\n",
       "      <td>31.500000</td>\n",
       "      <td>2.300000</td>\n",
       "      <td>140.000000</td>\n",
       "      <td>266.000000</td>\n",
       "      <td>14.000000</td>\n",
       "    </tr>\n",
       "    <tr>\n",
       "      <th>max</th>\n",
       "      <td>41.900000</td>\n",
       "      <td>38.900000</td>\n",
       "      <td>49.100000</td>\n",
       "      <td>496.100000</td>\n",
       "      <td>7140.000000</td>\n",
       "      <td>360.000000</td>\n",
       "      <td>80.000000</td>\n",
       "    </tr>\n",
       "  </tbody>\n",
       "</table>\n",
       "</div>"
      ],
      "text/plain": [
       "          avg_temp_c     min_temp_c     max_temp_c  precipitation_mm  \\\n",
       "count  181114.000000  176452.000000  174845.000000     112594.000000   \n",
       "mean       19.137516      14.627775      23.887261          3.679964   \n",
       "std         9.902722      10.004998      10.446670         11.294167   \n",
       "min       -34.700000     -43.800000     -28.500000          0.000000   \n",
       "25%        12.400000       7.500000      17.100000          0.000000   \n",
       "50%        21.400000      16.200000      27.000000          0.000000   \n",
       "75%        27.100000      23.300000      31.500000          2.300000   \n",
       "max        41.900000      38.900000      49.100000        496.100000   \n",
       "\n",
       "       snow_depth_mm  avg_wind_dir_deg  avg_wind_speed_kmh  \n",
       "count   12238.000000     146944.000000       159866.000000  \n",
       "mean      342.481696        175.650289           11.281875  \n",
       "std      1020.265388        105.435150            6.132884  \n",
       "min         0.000000          0.000000            0.000000  \n",
       "25%         0.000000         83.000000            7.200000  \n",
       "50%        10.000000        178.000000            9.900000  \n",
       "75%       140.000000        266.000000           14.000000  \n",
       "max      7140.000000        360.000000           80.000000  "
      ]
     },
     "execution_count": 5,
     "metadata": {},
     "output_type": "execute_result"
    }
   ],
   "source": [
    "df.describe()"
   ]
  },
  {
   "cell_type": "code",
   "execution_count": 6,
   "id": "4d408c48",
   "metadata": {
    "execution": {
     "iopub.execute_input": "2024-06-23T18:00:10.579326Z",
     "iopub.status.busy": "2024-06-23T18:00:10.578943Z",
     "iopub.status.idle": "2024-06-23T18:00:10.586183Z",
     "shell.execute_reply": "2024-06-23T18:00:10.584919Z"
    },
    "papermill": {
     "duration": 0.016497,
     "end_time": "2024-06-23T18:00:10.588572",
     "exception": false,
     "start_time": "2024-06-23T18:00:10.572075",
     "status": "completed"
    },
    "tags": []
   },
   "outputs": [
    {
     "data": {
      "text/plain": [
       "Index(['city_id', 'date', 'avg_temp_c', 'min_temp_c', 'max_temp_c',\n",
       "       'precipitation_mm', 'snow_depth_mm', 'avg_wind_dir_deg',\n",
       "       'avg_wind_speed_kmh'],\n",
       "      dtype='object')"
      ]
     },
     "execution_count": 6,
     "metadata": {},
     "output_type": "execute_result"
    }
   ],
   "source": [
    "df.columns"
   ]
  },
  {
   "cell_type": "code",
   "execution_count": 7,
   "id": "0a5f16e2",
   "metadata": {
    "execution": {
     "iopub.execute_input": "2024-06-23T18:00:10.601920Z",
     "iopub.status.busy": "2024-06-23T18:00:10.601504Z",
     "iopub.status.idle": "2024-06-23T18:00:10.629103Z",
     "shell.execute_reply": "2024-06-23T18:00:10.627921Z"
    },
    "papermill": {
     "duration": 0.038004,
     "end_time": "2024-06-23T18:00:10.632162",
     "exception": false,
     "start_time": "2024-06-23T18:00:10.594158",
     "status": "completed"
    },
    "tags": []
   },
   "outputs": [
    {
     "data": {
      "text/plain": [
       "city_id                    0\n",
       "date                       0\n",
       "avg_temp_c              1224\n",
       "min_temp_c              5886\n",
       "max_temp_c              7493\n",
       "precipitation_mm       69744\n",
       "snow_depth_mm         170100\n",
       "avg_wind_dir_deg       35394\n",
       "avg_wind_speed_kmh     22472\n",
       "dtype: int64"
      ]
     },
     "execution_count": 7,
     "metadata": {},
     "output_type": "execute_result"
    }
   ],
   "source": [
    "df.isnull().sum()"
   ]
  },
  {
   "cell_type": "code",
   "execution_count": 8,
   "id": "259f15e4",
   "metadata": {
    "execution": {
     "iopub.execute_input": "2024-06-23T18:00:10.648331Z",
     "iopub.status.busy": "2024-06-23T18:00:10.647914Z",
     "iopub.status.idle": "2024-06-23T18:00:10.669215Z",
     "shell.execute_reply": "2024-06-23T18:00:10.667782Z"
    },
    "papermill": {
     "duration": 0.03376,
     "end_time": "2024-06-23T18:00:10.672035",
     "exception": false,
     "start_time": "2024-06-23T18:00:10.638275",
     "status": "completed"
    },
    "tags": []
   },
   "outputs": [
    {
     "data": {
      "text/plain": [
       "array(['C001', 'C002', 'C003', 'C004', 'C005', 'C007', 'C008', 'C009',\n",
       "       'C010', 'C011', 'C012', 'C013', 'C014', 'C015', 'C016', 'C017',\n",
       "       'C018', 'C020', 'C022', 'C023', 'C024', 'C025', 'C027', 'C028',\n",
       "       'C029', 'C030', 'C031', 'C033', 'C034', 'C035', 'C036', 'C037',\n",
       "       'C038', 'C039', 'C040', 'C042', 'C043', 'C044', 'C045', 'C046',\n",
       "       'C047', 'C048', 'C049', 'C051', 'C053', 'C054', 'C055', 'C056',\n",
       "       'C057', 'C058', 'C059', 'C061', 'C062', 'C064', 'C065', 'C066',\n",
       "       'C067', 'C068', 'C069', 'C070', 'C071', 'C072', 'C073', 'C074',\n",
       "       'C076', 'C077', 'C078', 'C079', 'C081', 'C082', 'C083', 'C084',\n",
       "       'C085', 'C086', 'C087', 'C088', 'C089', 'C090', 'C091', 'C092',\n",
       "       'C093', 'C094', 'C095', 'C096', 'C097', 'C098', 'C099', 'C100',\n",
       "       'C101', 'C102', 'C103', 'C104', 'C105', 'C106', 'C107', 'C108',\n",
       "       'C109', 'C110', 'C111', 'C112'], dtype=object)"
      ]
     },
     "execution_count": 8,
     "metadata": {},
     "output_type": "execute_result"
    }
   ],
   "source": [
    "df.city_id.unique()"
   ]
  },
  {
   "cell_type": "code",
   "execution_count": 9,
   "id": "8ebc6a11",
   "metadata": {
    "execution": {
     "iopub.execute_input": "2024-06-23T18:00:10.686160Z",
     "iopub.status.busy": "2024-06-23T18:00:10.685724Z",
     "iopub.status.idle": "2024-06-23T18:00:10.693156Z",
     "shell.execute_reply": "2024-06-23T18:00:10.691812Z"
    },
    "papermill": {
     "duration": 0.017411,
     "end_time": "2024-06-23T18:00:10.695801",
     "exception": false,
     "start_time": "2024-06-23T18:00:10.678390",
     "status": "completed"
    },
    "tags": []
   },
   "outputs": [
    {
     "name": "stdout",
     "output_type": "stream",
     "text": [
      "city_id                object\n",
      "date                   object\n",
      "avg_temp_c            float64\n",
      "min_temp_c            float64\n",
      "max_temp_c            float64\n",
      "precipitation_mm      float64\n",
      "snow_depth_mm         float64\n",
      "avg_wind_dir_deg      float64\n",
      "avg_wind_speed_kmh    float64\n",
      "dtype: object\n"
     ]
    }
   ],
   "source": [
    "print(df.dtypes)"
   ]
  },
  {
   "cell_type": "code",
   "execution_count": 10,
   "id": "cff3dd58",
   "metadata": {
    "execution": {
     "iopub.execute_input": "2024-06-23T18:00:10.711350Z",
     "iopub.status.busy": "2024-06-23T18:00:10.710953Z",
     "iopub.status.idle": "2024-06-23T18:00:10.759158Z",
     "shell.execute_reply": "2024-06-23T18:00:10.757899Z"
    },
    "papermill": {
     "duration": 0.058566,
     "end_time": "2024-06-23T18:00:10.761791",
     "exception": false,
     "start_time": "2024-06-23T18:00:10.703225",
     "status": "completed"
    },
    "tags": []
   },
   "outputs": [
    {
     "name": "stdout",
     "output_type": "stream",
     "text": [
      "city_id                       object\n",
      "date                  datetime64[ns]\n",
      "avg_temp_c                   float64\n",
      "min_temp_c                   float64\n",
      "max_temp_c                   float64\n",
      "precipitation_mm             float64\n",
      "snow_depth_mm                float64\n",
      "avg_wind_dir_deg             float64\n",
      "avg_wind_speed_kmh           float64\n",
      "dtype: object\n"
     ]
    }
   ],
   "source": [
    "df['date']=pd.to_datetime(df.date)\n",
    "print(df.dtypes)"
   ]
  },
  {
   "cell_type": "code",
   "execution_count": 11,
   "id": "64418d69",
   "metadata": {
    "execution": {
     "iopub.execute_input": "2024-06-23T18:00:10.775785Z",
     "iopub.status.busy": "2024-06-23T18:00:10.775362Z",
     "iopub.status.idle": "2024-06-23T18:00:10.792189Z",
     "shell.execute_reply": "2024-06-23T18:00:10.790810Z"
    },
    "papermill": {
     "duration": 0.027021,
     "end_time": "2024-06-23T18:00:10.794942",
     "exception": false,
     "start_time": "2024-06-23T18:00:10.767921",
     "status": "completed"
    },
    "tags": []
   },
   "outputs": [
    {
     "name": "stdout",
     "output_type": "stream",
     "text": [
      "[5885, 29246, 29271, 29280, 29281, 29324, 40130, 40274, 40296, 40790, 40791, 40792, 40793, 40794, 125817, 125819, 125820, 125832, 125835, 125836, 125837, 125846, 125860, 125861, 125872, 125881, 125889, 125894, 125899, 125900, 125910, 125916, 125923, 125924, 125925, 125931, 125932, 125933, 125934, 125935, 125938, 125940, 125941, 125943, 125944, 125945, 125946, 125955, 125956, 125957, 125958, 125959, 125960, 125961, 125962, 125963, 125964, 125965, 125966, 126018, 126066, 126085, 126097, 126098, 126216, 126217, 126218, 126219, 126306, 126309, 126314, 126315, 126316, 126317, 126320, 126336, 126356, 126413, 126464, 126471, 126491, 126635, 126636, 126637, 140669, 141211, 147772, 147773, 147774, 147775, 147776, 147777, 147793, 147794, 147795, 147796, 147797, 147881, 147882, 147955, 147956, 148244, 148307, 148308, 148309, 148310, 148311, 148312, 148313, 148426, 148497, 148498, 148499, 148500, 148501, 148687, 148688, 148689, 148690, 148691, 148693, 148729, 149303, 153169, 153170, 153171, 153172, 153173, 153174, 153175, 153176, 153177, 153178, 153179, 153180, 153181, 153182, 153183, 153184, 153185, 153186, 153187, 153188, 153189, 153190, 153191, 153192, 153193, 153194, 153195, 153196, 153197, 153198, 153199, 153200, 153201, 153202, 153203, 153204, 153205, 153206, 153207, 153208, 153209, 153210, 153211, 153212, 153213, 153214, 153215, 153216, 153217, 153218, 153219, 153220, 153221, 153222, 153223, 153224, 153225, 153226, 153227, 153228, 153229, 153230, 153231, 153232, 153233, 153234, 153235, 153236, 153237, 153238, 153239, 153240, 153241, 153242, 153243, 153244, 153245, 153246, 153247, 153248, 153249, 153250, 153251, 153252, 153253, 153254, 153255, 153256, 153257, 153258, 153259, 153260, 153261, 153262, 153263, 153264, 153265, 153266, 153267, 153268, 153269, 153270, 153271, 153272, 153273, 153274, 153275, 153276, 153277, 153278, 153279, 153280, 153281, 153282, 153283, 153284, 153285, 153286, 153287, 153288, 153289, 153290, 153291, 153292, 153293, 153294, 153295, 153296, 153297, 153298, 153299, 153300, 153301, 153302, 153303, 153304, 153305, 153306, 153307, 153308, 153309, 153310, 153311, 153312, 153313, 153314, 153315, 153316, 153317, 153318, 153319, 153320, 153321, 153322, 153323, 153324, 153325, 153326, 153327, 153328, 153329, 153330, 153331, 153332, 153333, 153334, 153335, 153336, 153337, 153338, 153339, 153340, 153341, 153342, 153343, 153344, 153345, 153346, 153347, 153348, 153349, 153350, 153351, 153352, 153353, 153354, 153355, 153356, 153357, 153358, 153359, 153360, 153361, 153362, 153363, 153364, 153365, 153366, 153367, 153368, 153369, 153370, 153371, 153372, 153373, 153374, 153375, 153376, 153377, 153378, 153379, 153380, 153381, 153382, 153383, 153384, 153385, 153386, 153387, 153388, 153389, 153390, 153391, 153392, 153393, 153394, 153395, 153396, 153397, 153398, 153399, 153400, 153401, 153402, 153403, 153404, 153405, 153406, 153407, 153408, 153409, 153410, 153411, 153412, 153413, 153414, 153415, 153416, 153417, 153418, 153419, 153420, 153421, 153422, 153423, 153424, 153425, 153426, 153427, 153428, 153429, 153430, 153431, 153432, 153433, 153434, 153435, 153436, 153437, 153438, 153439, 153440, 153441, 153442, 153443, 153444, 153445, 153446, 153447, 153448, 153449, 153450, 153451, 153452, 153453, 153454, 153455, 153456, 153457, 153458, 153459, 153460, 153461, 153462, 153463, 153464, 153465, 153466, 153467, 153468, 153469, 153470, 153471, 153472, 153473, 153474, 153475, 153476, 153477, 153478, 153479, 153480, 153481, 153482, 153483, 153484, 153485, 153486, 153487, 153488, 153489, 153490, 153491, 153492, 153493, 153494, 153495, 153496, 153497, 153498, 153499, 153500, 153501, 153502, 153503, 153504, 153505, 153506, 153507, 153508, 153509, 153510, 153511, 153512, 153513, 153514, 153515, 153516, 153517, 153518, 153519, 153520, 153521, 153522, 153523, 153524, 153525, 153526, 153527, 153528, 153529, 153530, 153531, 153532, 153533, 153534, 153535, 153536, 153537, 153538, 153539, 153540, 153541, 153542, 153543, 153544, 153545, 153546, 153547, 153548, 153549, 153550, 153551, 153552, 153553, 153554, 153555, 153556, 153557, 153558, 153559, 153560, 153561, 153562, 153563, 153564, 153565, 153566, 153567, 153568, 153569, 153570, 153571, 153572, 153573, 153574, 153575, 153576, 153577, 153578, 153579, 153580, 153581, 153582, 153583, 153584, 153585, 153586, 153587, 153588, 153589, 153590, 153591, 153592, 153593, 153594, 153595, 153596, 153597, 153598, 153599, 153600, 153601, 153602, 153603, 153604, 153605, 153606, 153607, 153608, 153609, 153610, 153611, 153612, 153613, 153614, 153615, 153616, 153617, 153618, 153619, 153620, 153621, 153622, 153623, 153624, 153625, 153626, 153627, 153628, 153629, 153630, 153631, 153632, 153633, 153634, 153635, 153636, 153637, 153638, 153639, 153640, 153641, 153642, 153643, 153644, 153645, 153646, 153647, 153648, 153649, 153650, 153651, 153652, 153653, 153654, 153655, 153656, 153657, 153658, 153659, 153660, 153661, 153662, 153663, 153664, 153665, 153666, 153667, 153668, 153669, 153670, 153671, 153672, 153673, 153674, 153675, 153676, 153677, 153678, 153679, 153680, 153681, 153682, 153683, 153684, 153685, 153686, 153687, 153688, 153689, 153690, 153691, 153692, 153693, 153694, 153695, 153696, 153697, 153698, 153699, 153700, 153701, 153702, 153703, 153704, 153705, 153706, 153707, 153708, 153709, 153710, 153711, 153712, 153713, 153714, 153715, 153716, 153717, 153718, 153719, 153720, 153721, 153722, 153723, 153724, 153725, 153726, 153727, 153728, 153729, 153730, 153731, 153732, 153733, 153734, 153735, 153736, 153737, 153738, 153739, 153740, 153741, 153742, 153743, 153744, 153745, 153746, 153747, 153748, 153749, 153750, 153751, 153752, 153753, 153754, 153755, 153756, 153757, 153758, 153759, 153760, 153761, 153762, 153763, 153764, 153765, 153766, 153767, 153768, 153769, 153770, 153771, 153772, 153773, 153774, 153775, 153776, 153777, 153778, 153779, 153780, 153781, 153782, 153783, 153784, 153785, 153786, 153787, 153788, 153789, 153790, 153791, 153792, 153793, 153794, 153795, 153796, 153797, 153798, 153799, 153800, 153801, 153802, 153803, 153804, 153805, 153806, 153807, 153808, 153809, 153810, 153811, 153812, 153813, 153814, 153815, 153816, 153817, 153818, 153819, 153820, 153821, 153822, 153823, 153824, 153825, 153826, 153827, 153828, 153829, 153830, 153831, 153832, 153833, 153834, 153835, 153836, 153837, 153838, 153839, 153840, 153841, 153842, 153843, 153844, 153845, 153846, 153847, 153848, 153849, 153850, 153851, 153852, 153853, 153854, 153855, 153856, 153857, 153858, 153859, 153860, 153861, 153862, 153863, 153864, 153865, 153866, 153867, 153868, 153869, 153870, 153871, 153872, 153873, 153874, 153875, 153876, 153877, 153878, 153879, 153880, 153881, 153882, 153883, 153884, 153885, 153886, 153887, 153888, 153889, 153890, 153891, 153892, 153893, 153894, 153895, 153896, 153897, 153898, 153899, 153900, 153901, 153902, 153903, 153904, 153905, 153906, 153907, 153908, 153909, 153910, 153911, 153912, 153913, 153914, 153915, 153916, 153917, 153918, 153919, 153920, 153921, 153922, 153923, 153924, 153925, 153926, 153927, 153928, 153929, 153930, 153931, 153932, 153933, 153934, 153935, 153936, 153937, 153938, 153939, 153940, 153941, 153942, 153943, 153944, 153945, 153946, 153947, 153948, 153949, 153950, 153951, 153952, 153953, 153954, 153955, 153956, 153957, 153958, 153959, 153960, 153961, 153962, 153963, 153964, 153965, 153966, 153967, 153968, 153969, 153970, 153971, 153972, 153973, 153974, 153975, 153976, 153977, 153978, 153979, 153980, 153981, 153982, 153983, 153984, 153985, 153986, 153987, 153988, 153989, 153990, 153991, 153992, 153993, 153994, 153995, 153996, 153997, 153998, 153999, 154000, 154001, 154002, 154003, 154004, 154005, 154006, 154007, 154008, 154009, 154010, 154011, 154012, 154013, 154014, 154015, 154016, 154017, 154018, 154019, 154020, 154021, 154022, 154023, 154024, 154025, 154026, 154027, 154028, 154029, 154030, 154031, 154032, 154033, 154034, 154035, 154036, 154037, 154038, 154039, 154040, 154041, 154042, 154043, 154044, 154045, 154046, 154047, 154048, 154049, 154050, 154051, 154052, 154053, 154054, 154055, 154056, 154057, 154058, 154059, 154060, 154061, 154062, 154063, 154064, 154065, 154066, 154067, 154068, 154069, 154070, 154071, 154072, 154073, 154074, 154075, 154076, 154077, 154078, 154079, 154080, 154081, 154082, 154083, 154084, 154085, 154086, 154087, 154088, 154089, 154090, 154091, 154092, 154093, 154094, 154095, 154096, 154097, 154098, 154099, 154100, 154101, 154102, 154103, 154104, 154105, 154106, 154107, 154108, 154109, 154110, 154111, 154112, 154113, 154114, 154115, 154116, 154117, 154118, 154119, 154120, 154121, 154122, 154123, 154124, 154125, 154126, 154127, 154128, 154129, 154130, 154131, 154132, 154133, 154134, 154135, 154136, 154137, 154138, 154139, 154140, 154141, 154142, 154143, 154144, 154145, 154146, 154147, 154148, 154149, 154150, 154151, 154152, 154153, 154154, 154155, 154156, 154157, 154158, 154159, 154160, 154161, 154162, 154163, 154164, 154165, 154166, 154167, 154168, 154169, 154170, 154171, 154172, 154173, 154174, 154175, 154176, 154177, 154178, 154179, 154180, 154181, 154182, 154183, 154184, 154185, 154186, 154187, 154188, 154189, 154190, 154191, 154192, 154193, 154194, 154195, 154196, 154197, 154198, 154199, 154200, 154201, 154202, 154203, 154204, 154205, 154206, 154207, 154208, 154209, 154210, 154211, 154212, 154213, 154214, 154215, 154216, 154217, 154218, 154219, 154220, 154221, 154222, 154223, 154224, 154225, 154226, 154227, 154228, 154229, 154230, 154231, 154232, 154233, 154234, 154235, 154236, 154237, 154238, 154239, 154240, 154241, 154242, 154243, 154244, 154245, 154246, 154247, 154248, 154249, 154250, 154251, 154252, 154253, 154254, 154255, 154256, 154257, 154258, 154259, 154260, 154261, 154262, 154263, 154264, 154265, 154351, 154715, 154774, 154775]\n"
     ]
    }
   ],
   "source": [
    "nan_indices = df[df['avg_temp_c'].isna()].index.tolist()\n",
    "\n",
    "print(nan_indices)"
   ]
  },
  {
   "cell_type": "code",
   "execution_count": 12,
   "id": "14861d07",
   "metadata": {
    "execution": {
     "iopub.execute_input": "2024-06-23T18:00:10.809030Z",
     "iopub.status.busy": "2024-06-23T18:00:10.808674Z",
     "iopub.status.idle": "2024-06-23T18:00:10.829453Z",
     "shell.execute_reply": "2024-06-23T18:00:10.828260Z"
    },
    "papermill": {
     "duration": 0.030818,
     "end_time": "2024-06-23T18:00:10.832066",
     "exception": false,
     "start_time": "2024-06-23T18:00:10.801248",
     "status": "completed"
    },
    "tags": []
   },
   "outputs": [
    {
     "data": {
      "text/html": [
       "<div>\n",
       "<style scoped>\n",
       "    .dataframe tbody tr th:only-of-type {\n",
       "        vertical-align: middle;\n",
       "    }\n",
       "\n",
       "    .dataframe tbody tr th {\n",
       "        vertical-align: top;\n",
       "    }\n",
       "\n",
       "    .dataframe thead th {\n",
       "        text-align: right;\n",
       "    }\n",
       "</style>\n",
       "<table border=\"1\" class=\"dataframe\">\n",
       "  <thead>\n",
       "    <tr style=\"text-align: right;\">\n",
       "      <th></th>\n",
       "      <th>city_id</th>\n",
       "      <th>date</th>\n",
       "      <th>min_temp_c</th>\n",
       "      <th>max_temp_c</th>\n",
       "      <th>avg_temp_c</th>\n",
       "    </tr>\n",
       "  </thead>\n",
       "  <tbody>\n",
       "    <tr>\n",
       "      <th>125930</th>\n",
       "      <td>C082</td>\n",
       "      <td>2014-04-25</td>\n",
       "      <td>25.0</td>\n",
       "      <td>30.0</td>\n",
       "      <td>27.3</td>\n",
       "    </tr>\n",
       "    <tr>\n",
       "      <th>125931</th>\n",
       "      <td>C082</td>\n",
       "      <td>2014-04-26</td>\n",
       "      <td>24.4</td>\n",
       "      <td>30.0</td>\n",
       "      <td>NaN</td>\n",
       "    </tr>\n",
       "    <tr>\n",
       "      <th>125932</th>\n",
       "      <td>C082</td>\n",
       "      <td>2014-04-27</td>\n",
       "      <td>25.0</td>\n",
       "      <td>30.0</td>\n",
       "      <td>NaN</td>\n",
       "    </tr>\n",
       "    <tr>\n",
       "      <th>125933</th>\n",
       "      <td>C082</td>\n",
       "      <td>2014-04-28</td>\n",
       "      <td>25.0</td>\n",
       "      <td>30.6</td>\n",
       "      <td>NaN</td>\n",
       "    </tr>\n",
       "    <tr>\n",
       "      <th>125934</th>\n",
       "      <td>C082</td>\n",
       "      <td>2014-04-29</td>\n",
       "      <td>25.0</td>\n",
       "      <td>31.1</td>\n",
       "      <td>NaN</td>\n",
       "    </tr>\n",
       "    <tr>\n",
       "      <th>125935</th>\n",
       "      <td>C082</td>\n",
       "      <td>2014-04-30</td>\n",
       "      <td>25.0</td>\n",
       "      <td>30.0</td>\n",
       "      <td>NaN</td>\n",
       "    </tr>\n",
       "    <tr>\n",
       "      <th>125936</th>\n",
       "      <td>C082</td>\n",
       "      <td>2014-05-01</td>\n",
       "      <td>23.9</td>\n",
       "      <td>30.0</td>\n",
       "      <td>26.4</td>\n",
       "    </tr>\n",
       "    <tr>\n",
       "      <th>125937</th>\n",
       "      <td>C082</td>\n",
       "      <td>2014-05-02</td>\n",
       "      <td>24.4</td>\n",
       "      <td>30.0</td>\n",
       "      <td>27.1</td>\n",
       "    </tr>\n",
       "    <tr>\n",
       "      <th>125938</th>\n",
       "      <td>C082</td>\n",
       "      <td>2014-05-03</td>\n",
       "      <td>25.0</td>\n",
       "      <td>30.6</td>\n",
       "      <td>NaN</td>\n",
       "    </tr>\n",
       "    <tr>\n",
       "      <th>125939</th>\n",
       "      <td>C082</td>\n",
       "      <td>2014-05-04</td>\n",
       "      <td>26.1</td>\n",
       "      <td>30.0</td>\n",
       "      <td>27.5</td>\n",
       "    </tr>\n",
       "  </tbody>\n",
       "</table>\n",
       "</div>"
      ],
      "text/plain": [
       "       city_id       date  min_temp_c  max_temp_c  avg_temp_c\n",
       "125930    C082 2014-04-25        25.0        30.0        27.3\n",
       "125931    C082 2014-04-26        24.4        30.0         NaN\n",
       "125932    C082 2014-04-27        25.0        30.0         NaN\n",
       "125933    C082 2014-04-28        25.0        30.6         NaN\n",
       "125934    C082 2014-04-29        25.0        31.1         NaN\n",
       "125935    C082 2014-04-30        25.0        30.0         NaN\n",
       "125936    C082 2014-05-01        23.9        30.0        26.4\n",
       "125937    C082 2014-05-02        24.4        30.0        27.1\n",
       "125938    C082 2014-05-03        25.0        30.6         NaN\n",
       "125939    C082 2014-05-04        26.1        30.0        27.5"
      ]
     },
     "execution_count": 12,
     "metadata": {},
     "output_type": "execute_result"
    }
   ],
   "source": [
    "df1=df[['city_id','date','min_temp_c','max_temp_c','avg_temp_c']]\n",
    "df1[125930:125940]"
   ]
  },
  {
   "cell_type": "code",
   "execution_count": 13,
   "id": "2fe45f07",
   "metadata": {
    "execution": {
     "iopub.execute_input": "2024-06-23T18:00:10.846712Z",
     "iopub.status.busy": "2024-06-23T18:00:10.846294Z",
     "iopub.status.idle": "2024-06-23T18:00:11.524284Z",
     "shell.execute_reply": "2024-06-23T18:00:11.522957Z"
    },
    "papermill": {
     "duration": 0.688418,
     "end_time": "2024-06-23T18:00:11.526996",
     "exception": false,
     "start_time": "2024-06-23T18:00:10.838578",
     "status": "completed"
    },
    "tags": []
   },
   "outputs": [],
   "source": [
    "import pandas as pd\n",
    "import numpy as np\n",
    "import matplotlib.pyplot as plt\n",
    "from statsmodels.tsa.arima.model import ARIMA\n",
    "import warnings\n",
    "warnings.filterwarnings(\"ignore\")\n",
    "\n",
    "df1['date']=pd.to_datetime(df1.date)"
   ]
  },
  {
   "cell_type": "code",
   "execution_count": 14,
   "id": "f1cb370b",
   "metadata": {
    "execution": {
     "iopub.execute_input": "2024-06-23T18:00:11.543652Z",
     "iopub.status.busy": "2024-06-23T18:00:11.542959Z",
     "iopub.status.idle": "2024-06-23T18:00:11.551112Z",
     "shell.execute_reply": "2024-06-23T18:00:11.549915Z"
    },
    "papermill": {
     "duration": 0.01921,
     "end_time": "2024-06-23T18:00:11.553570",
     "exception": false,
     "start_time": "2024-06-23T18:00:11.534360",
     "status": "completed"
    },
    "tags": []
   },
   "outputs": [],
   "source": [
    "# Function to calculate avg_temp_c\n",
    "def calculate_avg_temp(row):\n",
    "    if pd.notna(row['avg_temp_c']):\n",
    "        return row['avg_temp_c']\n",
    "    else:\n",
    "        return (row['min_temp_c'] + row['max_temp_c']) / 2\n",
    "\n",
    "# Function to group the DataFrame by city_id and process avg_temp_c\n",
    "def group_by_city(df):\n",
    "    # Group by 'city_id' and create a dictionary of DataFrames\n",
    "    grouped_dfs = {city_id: group.reset_index(drop=True) for city_id, group in df.groupby('city_id')}\n",
    "    \n",
    "    # Preprocess each grouped DataFrame\n",
    "    for city_id, group in grouped_dfs.items():\n",
    "        group['min_temp_c'] = group['min_temp_c'].fillna(group['min_temp_c'].mean()).round(1)\n",
    "        group['max_temp_c'] = group['max_temp_c'].fillna(group['max_temp_c'].mean()).round(1)\n",
    "        group['avg_temp_c'] = group.apply(calculate_avg_temp, axis=1)\n",
    "        grouped_dfs[city_id] = group  # Update the dictionary with the preprocessed group\n",
    "    \n",
    "    return grouped_dfs"
   ]
  },
  {
   "cell_type": "code",
   "execution_count": 15,
   "id": "d3dd0433",
   "metadata": {
    "execution": {
     "iopub.execute_input": "2024-06-23T18:00:11.568614Z",
     "iopub.status.busy": "2024-06-23T18:00:11.568240Z",
     "iopub.status.idle": "2024-06-23T18:00:11.575417Z",
     "shell.execute_reply": "2024-06-23T18:00:11.574153Z"
    },
    "papermill": {
     "duration": 0.017593,
     "end_time": "2024-06-23T18:00:11.578127",
     "exception": false,
     "start_time": "2024-06-23T18:00:11.560534",
     "status": "completed"
    },
    "tags": []
   },
   "outputs": [],
   "source": [
    "# Function to fit ARIMA model and forecast\n",
    "def forecast_with_arima(group_df, steps=7):\n",
    "    # Set the index to 'date' for time series modeling\n",
    "    group_df = group_df.set_index('date')\n",
    "    \n",
    "    # Fit the ARIMA model\n",
    "    model = ARIMA(group_df['avg_temp_c'], order=(2, 1, 2))\n",
    "    model_fit = model.fit()\n",
    "    \n",
    "    # Forecast the next 'steps' days\n",
    "    forecast = model_fit.forecast(steps=steps)\n",
    "    \n",
    "    # Create a DataFrame for the forecasted values\n",
    "    forecast_dates = pd.date_range(start=group_df.index[-1] + pd.Timedelta(days=1), periods=steps)\n",
    "    forecast_df = pd.DataFrame({'date': forecast_dates, 'avg_temp_c': forecast.round(1)})\n",
    "    \n",
    "    return forecast_df"
   ]
  },
  {
   "cell_type": "code",
   "execution_count": 16,
   "id": "1a5d8516",
   "metadata": {
    "_kg_hide-output": true,
    "execution": {
     "iopub.execute_input": "2024-06-23T18:00:11.592719Z",
     "iopub.status.busy": "2024-06-23T18:00:11.592337Z",
     "iopub.status.idle": "2024-06-23T18:00:14.174426Z",
     "shell.execute_reply": "2024-06-23T18:00:14.172836Z"
    },
    "papermill": {
     "duration": 2.592441,
     "end_time": "2024-06-23T18:00:14.177011",
     "exception": false,
     "start_time": "2024-06-23T18:00:11.584570",
     "status": "completed"
    },
    "tags": []
   },
   "outputs": [],
   "source": [
    "\n",
    "\n",
    "# Function to plot time series\n",
    "def plot_time_series(grouped_dfs):\n",
    "    for city_id, group_df in grouped_dfs.items():\n",
    "        plt.figure(figsize=(10, 6))\n",
    "        plt.plot(group_df['date'], group_df['avg_temp_c'], marker='o', label='Avg Temp')\n",
    "        plt.plot(group_df['date'], group_df['min_temp_c'], marker='x', linestyle='--', label='Min Temp')\n",
    "        plt.plot(group_df['date'], group_df['max_temp_c'], marker='x', linestyle='--', label='Max Temp')\n",
    "        plt.xlabel('Date')\n",
    "        plt.ylabel('Temperature (°C)')\n",
    "        plt.title(f'Temperature Time Series for City ID {city_id}')\n",
    "        plt.legend()\n",
    "        plt.grid(True)\n",
    "        plt.xticks(rotation=45)\n",
    "        plt.tight_layout()\n",
    "        plt.show()\n",
    "\n",
    "# Function to plot boxplots\n",
    "def plot_boxplots(grouped_dfs):\n",
    "    for city_id, group_df in grouped_dfs.items():\n",
    "        plt.figure(figsize=(8, 6))\n",
    "        data_to_plot = [group_df['min_temp_c'], group_df['max_temp_c'], group_df['avg_temp_c']]\n",
    "        plt.boxplot(data_to_plot, labels=['Min Temp', 'Max Temp', 'Avg Temp'])\n",
    "        plt.ylabel('Temperature (°C)')\n",
    "        plt.title(f'Temperature Boxplot for City ID {city_id}')\n",
    "        plt.grid(True)\n",
    "        plt.show()\n",
    "\n",
    "# Use the function to group and preprocess the sample DataFrame\n",
    "grouped_dfs = group_by_city(df1)\n",
    "\n",
    "# Plot time series for each grouped DataFrame\n",
    "#plot_time_series(grouped_dfs)\n",
    "\n",
    "# Plot boxplots for each grouped DataFrame\n",
    "#plot_boxplots(grouped_dfs)\n"
   ]
  },
  {
   "cell_type": "code",
   "execution_count": 17,
   "id": "7317049b",
   "metadata": {
    "execution": {
     "iopub.execute_input": "2024-06-23T18:00:14.191354Z",
     "iopub.status.busy": "2024-06-23T18:00:14.190973Z",
     "iopub.status.idle": "2024-06-23T18:01:16.095439Z",
     "shell.execute_reply": "2024-06-23T18:01:16.094120Z"
    },
    "papermill": {
     "duration": 61.925346,
     "end_time": "2024-06-23T18:01:16.108795",
     "exception": false,
     "start_time": "2024-06-23T18:00:14.183449",
     "status": "completed"
    },
    "tags": []
   },
   "outputs": [
    {
     "name": "stdout",
     "output_type": "stream",
     "text": [
      "700\n",
      "     submission_ID  avg_temp_c\n",
      "0                1        11.5\n",
      "1                2        11.1\n",
      "2                3        10.8\n",
      "3                4        10.7\n",
      "4                5        10.6\n",
      "..             ...         ...\n",
      "695            696        20.9\n",
      "696            697        20.9\n",
      "697            698        21.0\n",
      "698            699        21.0\n",
      "699            700        21.0\n",
      "\n",
      "[700 rows x 2 columns]\n"
     ]
    }
   ],
   "source": [
    "# Use the function to group and preprocess the sample DataFrame\n",
    "grouped_dfs = group_by_city(df1)\n",
    "\n",
    "# Dictionary to store the forecast results\n",
    "forecast_dict = {}\n",
    "\n",
    "# Forecast for each city_id\n",
    "for city_id, group in grouped_dfs.items():\n",
    "    forecast_df = forecast_with_arima(group)\n",
    "    forecast_dict[city_id] = forecast_df\n",
    "    \n",
    "flattened_values = [value for forecast in forecast_dict.values() for value in forecast['avg_temp_c'].tolist()]\n",
    "print(len(flattened_values))\n",
    "\n",
    "sample_submission_df = pd.DataFrame({\n",
    "    'submission_ID': np.arange(1, 701),\n",
    "    'avg_temp_c': flattened_values\n",
    "})\n",
    "\n",
    "# Display the updated DataFrame\n",
    "print(sample_submission_df)\n",
    "sample_submission_df.to_csv('submission.csv', index=False)"
   ]
  }
 ],
 "metadata": {
  "kaggle": {
   "accelerator": "none",
   "dataSources": [
    {
     "databundleVersionId": 8892995,
     "sourceId": 81884,
     "sourceType": "competition"
    }
   ],
   "dockerImageVersionId": 30732,
   "isGpuEnabled": false,
   "isInternetEnabled": false,
   "language": "python",
   "sourceType": "notebook"
  },
  "kernelspec": {
   "display_name": "Python 3",
   "language": "python",
   "name": "python3"
  },
  "language_info": {
   "codemirror_mode": {
    "name": "ipython",
    "version": 3
   },
   "file_extension": ".py",
   "mimetype": "text/x-python",
   "name": "python",
   "nbconvert_exporter": "python",
   "pygments_lexer": "ipython3",
   "version": "3.10.13"
  },
  "papermill": {
   "default_parameters": {},
   "duration": 72.172916,
   "end_time": "2024-06-23T18:01:16.746545",
   "environment_variables": {},
   "exception": null,
   "input_path": "__notebook__.ipynb",
   "output_path": "__notebook__.ipynb",
   "parameters": {},
   "start_time": "2024-06-23T18:00:04.573629",
   "version": "2.5.0"
  }
 },
 "nbformat": 4,
 "nbformat_minor": 5
}
