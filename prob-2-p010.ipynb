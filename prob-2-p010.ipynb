{
 "cells": [
  {
   "cell_type": "code",
   "execution_count": 1,
   "id": "5dddae70",
   "metadata": {
    "execution": {
     "iopub.execute_input": "2024-06-23T15:04:11.041145Z",
     "iopub.status.busy": "2024-06-23T15:04:11.040609Z",
     "iopub.status.idle": "2024-06-23T15:04:12.053618Z",
     "shell.execute_reply": "2024-06-23T15:04:12.052120Z"
    },
    "papermill": {
     "duration": 1.034465,
     "end_time": "2024-06-23T15:04:12.056680",
     "exception": false,
     "start_time": "2024-06-23T15:04:11.022215",
     "status": "completed"
    },
    "tags": []
   },
   "outputs": [
    {
     "name": "stdout",
     "output_type": "stream",
     "text": [
      "/kaggle/input/predicta-1-0-predict-the-unpredictable-part-2/daily_data.csv\n",
      "/kaggle/input/predicta-1-0-predict-the-unpredictable-part-2/submission.csv\n"
     ]
    }
   ],
   "source": [
    "import numpy as np # linear algebra\n",
    "import pandas as pd # data processing, CSV file I/O (e.g. pd.read_csv)\n",
    "\n",
    "import os\n",
    "for dirname, _, filenames in os.walk('/kaggle/input'):\n",
    "    for filename in filenames:\n",
    "        print(os.path.join(dirname, filename))\n"
   ]
  },
  {
   "cell_type": "code",
   "execution_count": 2,
   "id": "8ef09ade",
   "metadata": {
    "execution": {
     "iopub.execute_input": "2024-06-23T15:04:12.090419Z",
     "iopub.status.busy": "2024-06-23T15:04:12.089857Z",
     "iopub.status.idle": "2024-06-23T15:04:13.573628Z",
     "shell.execute_reply": "2024-06-23T15:04:13.572495Z"
    },
    "papermill": {
     "duration": 1.503564,
     "end_time": "2024-06-23T15:04:13.576601",
     "exception": false,
     "start_time": "2024-06-23T15:04:12.073037",
     "status": "completed"
    },
    "tags": []
   },
   "outputs": [],
   "source": [
    "import pandas as pd\n",
    "import numpy as np\n",
    "import matplotlib.pyplot as plt\n",
    "import seaborn as sns"
   ]
  },
  {
   "cell_type": "code",
   "execution_count": 3,
   "id": "ac4e4b31",
   "metadata": {
    "execution": {
     "iopub.execute_input": "2024-06-23T15:04:13.610134Z",
     "iopub.status.busy": "2024-06-23T15:04:13.609640Z",
     "iopub.status.idle": "2024-06-23T15:04:13.697829Z",
     "shell.execute_reply": "2024-06-23T15:04:13.696331Z"
    },
    "id": "OrG8C_7LsoD2",
    "outputId": "22ba0ad3-8c66-4b78-c3bf-2bebf2f09b24",
    "papermill": {
     "duration": 0.107821,
     "end_time": "2024-06-23T15:04:13.700582",
     "exception": false,
     "start_time": "2024-06-23T15:04:13.592761",
     "status": "completed"
    },
    "tags": []
   },
   "outputs": [
    {
     "data": {
      "text/html": [
       "<div>\n",
       "<style scoped>\n",
       "    .dataframe tbody tr th:only-of-type {\n",
       "        vertical-align: middle;\n",
       "    }\n",
       "\n",
       "    .dataframe tbody tr th {\n",
       "        vertical-align: top;\n",
       "    }\n",
       "\n",
       "    .dataframe thead th {\n",
       "        text-align: right;\n",
       "    }\n",
       "</style>\n",
       "<table border=\"1\" class=\"dataframe\">\n",
       "  <thead>\n",
       "    <tr style=\"text-align: right;\">\n",
       "      <th></th>\n",
       "      <th>day_id</th>\n",
       "      <th>city_id</th>\n",
       "      <th>temperature_celsius</th>\n",
       "      <th>condition_text</th>\n",
       "      <th>wind_kph</th>\n",
       "      <th>wind_degree</th>\n",
       "      <th>pressure_mb</th>\n",
       "      <th>precip_mm</th>\n",
       "      <th>humidity</th>\n",
       "      <th>cloud</th>\n",
       "      <th>feels_like_celsius</th>\n",
       "      <th>visibility_km</th>\n",
       "      <th>uv_index</th>\n",
       "      <th>gust_kph</th>\n",
       "      <th>air_quality_us-epa-index</th>\n",
       "      <th>sunrise</th>\n",
       "      <th>sunset</th>\n",
       "    </tr>\n",
       "  </thead>\n",
       "  <tbody>\n",
       "    <tr>\n",
       "      <th>0</th>\n",
       "      <td>D0001</td>\n",
       "      <td>C001</td>\n",
       "      <td>27.0</td>\n",
       "      <td>NaN</td>\n",
       "      <td>6.1</td>\n",
       "      <td>210</td>\n",
       "      <td>1006.0</td>\n",
       "      <td>0.0</td>\n",
       "      <td>54</td>\n",
       "      <td>75</td>\n",
       "      <td>28.0</td>\n",
       "      <td>10.0</td>\n",
       "      <td>6.0</td>\n",
       "      <td>11.9</td>\n",
       "      <td>2</td>\n",
       "      <td>06:04 AM</td>\n",
       "      <td>07:19 PM</td>\n",
       "    </tr>\n",
       "    <tr>\n",
       "      <th>1</th>\n",
       "      <td>D0002</td>\n",
       "      <td>C001</td>\n",
       "      <td>22.0</td>\n",
       "      <td>NaN</td>\n",
       "      <td>6.1</td>\n",
       "      <td>170</td>\n",
       "      <td>1006.0</td>\n",
       "      <td>0.0</td>\n",
       "      <td>73</td>\n",
       "      <td>75</td>\n",
       "      <td>24.5</td>\n",
       "      <td>10.0</td>\n",
       "      <td>1.0</td>\n",
       "      <td>23.4</td>\n",
       "      <td>1</td>\n",
       "      <td>06:05 AM</td>\n",
       "      <td>07:18 PM</td>\n",
       "    </tr>\n",
       "    <tr>\n",
       "      <th>2</th>\n",
       "      <td>D0003</td>\n",
       "      <td>C001</td>\n",
       "      <td>20.0</td>\n",
       "      <td>Light Rain with Thunder</td>\n",
       "      <td>3.6</td>\n",
       "      <td>10</td>\n",
       "      <td>1011.0</td>\n",
       "      <td>4.5</td>\n",
       "      <td>100</td>\n",
       "      <td>75</td>\n",
       "      <td>20.0</td>\n",
       "      <td>10.0</td>\n",
       "      <td>1.0</td>\n",
       "      <td>12.6</td>\n",
       "      <td>1</td>\n",
       "      <td>06:05 AM</td>\n",
       "      <td>07:18 PM</td>\n",
       "    </tr>\n",
       "    <tr>\n",
       "      <th>3</th>\n",
       "      <td>D0004</td>\n",
       "      <td>C001</td>\n",
       "      <td>17.0</td>\n",
       "      <td>Clear and Sunny</td>\n",
       "      <td>6.1</td>\n",
       "      <td>150</td>\n",
       "      <td>1018.0</td>\n",
       "      <td>0.0</td>\n",
       "      <td>88</td>\n",
       "      <td>0</td>\n",
       "      <td>17.0</td>\n",
       "      <td>10.0</td>\n",
       "      <td>1.0</td>\n",
       "      <td>11.2</td>\n",
       "      <td>1</td>\n",
       "      <td>06:06 AM</td>\n",
       "      <td>07:16 PM</td>\n",
       "    </tr>\n",
       "    <tr>\n",
       "      <th>4</th>\n",
       "      <td>D0005</td>\n",
       "      <td>C001</td>\n",
       "      <td>18.0</td>\n",
       "      <td>NaN</td>\n",
       "      <td>3.6</td>\n",
       "      <td>92</td>\n",
       "      <td>1019.0</td>\n",
       "      <td>0.0</td>\n",
       "      <td>94</td>\n",
       "      <td>0</td>\n",
       "      <td>18.0</td>\n",
       "      <td>10.0</td>\n",
       "      <td>1.0</td>\n",
       "      <td>9.0</td>\n",
       "      <td>1</td>\n",
       "      <td>06:07 AM</td>\n",
       "      <td>07:15 PM</td>\n",
       "    </tr>\n",
       "    <tr>\n",
       "      <th>...</th>\n",
       "      <td>...</td>\n",
       "      <td>...</td>\n",
       "      <td>...</td>\n",
       "      <td>...</td>\n",
       "      <td>...</td>\n",
       "      <td>...</td>\n",
       "      <td>...</td>\n",
       "      <td>...</td>\n",
       "      <td>...</td>\n",
       "      <td>...</td>\n",
       "      <td>...</td>\n",
       "      <td>...</td>\n",
       "      <td>...</td>\n",
       "      <td>...</td>\n",
       "      <td>...</td>\n",
       "      <td>...</td>\n",
       "      <td>...</td>\n",
       "    </tr>\n",
       "    <tr>\n",
       "      <th>2888</th>\n",
       "      <td>D2889</td>\n",
       "      <td>C112</td>\n",
       "      <td>17.1</td>\n",
       "      <td>Clear and Sunny</td>\n",
       "      <td>13.3</td>\n",
       "      <td>61</td>\n",
       "      <td>1017.0</td>\n",
       "      <td>0.0</td>\n",
       "      <td>57</td>\n",
       "      <td>3</td>\n",
       "      <td>17.1</td>\n",
       "      <td>10.0</td>\n",
       "      <td>1.0</td>\n",
       "      <td>22.2</td>\n",
       "      <td>1</td>\n",
       "      <td>05:49 AM</td>\n",
       "      <td>05:51 PM</td>\n",
       "    </tr>\n",
       "    <tr>\n",
       "      <th>2889</th>\n",
       "      <td>D2890</td>\n",
       "      <td>C112</td>\n",
       "      <td>17.4</td>\n",
       "      <td>NaN</td>\n",
       "      <td>13.0</td>\n",
       "      <td>51</td>\n",
       "      <td>1017.0</td>\n",
       "      <td>0.0</td>\n",
       "      <td>49</td>\n",
       "      <td>0</td>\n",
       "      <td>17.4</td>\n",
       "      <td>10.0</td>\n",
       "      <td>1.0</td>\n",
       "      <td>22.2</td>\n",
       "      <td>1</td>\n",
       "      <td>05:49 AM</td>\n",
       "      <td>05:52 PM</td>\n",
       "    </tr>\n",
       "    <tr>\n",
       "      <th>2890</th>\n",
       "      <td>D2891</td>\n",
       "      <td>C112</td>\n",
       "      <td>19.2</td>\n",
       "      <td>NaN</td>\n",
       "      <td>11.5</td>\n",
       "      <td>46</td>\n",
       "      <td>1016.0</td>\n",
       "      <td>0.0</td>\n",
       "      <td>34</td>\n",
       "      <td>0</td>\n",
       "      <td>19.2</td>\n",
       "      <td>10.0</td>\n",
       "      <td>1.0</td>\n",
       "      <td>21.3</td>\n",
       "      <td>2</td>\n",
       "      <td>05:48 AM</td>\n",
       "      <td>05:52 PM</td>\n",
       "    </tr>\n",
       "    <tr>\n",
       "      <th>2891</th>\n",
       "      <td>D2892</td>\n",
       "      <td>C112</td>\n",
       "      <td>19.2</td>\n",
       "      <td>NaN</td>\n",
       "      <td>14.4</td>\n",
       "      <td>76</td>\n",
       "      <td>1017.0</td>\n",
       "      <td>0.0</td>\n",
       "      <td>45</td>\n",
       "      <td>2</td>\n",
       "      <td>19.2</td>\n",
       "      <td>10.0</td>\n",
       "      <td>1.0</td>\n",
       "      <td>24.9</td>\n",
       "      <td>2</td>\n",
       "      <td>05:47 AM</td>\n",
       "      <td>05:52 PM</td>\n",
       "    </tr>\n",
       "    <tr>\n",
       "      <th>2892</th>\n",
       "      <td>D2893</td>\n",
       "      <td>C112</td>\n",
       "      <td>18.6</td>\n",
       "      <td>NaN</td>\n",
       "      <td>17.3</td>\n",
       "      <td>61</td>\n",
       "      <td>1016.0</td>\n",
       "      <td>0.0</td>\n",
       "      <td>34</td>\n",
       "      <td>0</td>\n",
       "      <td>18.6</td>\n",
       "      <td>10.0</td>\n",
       "      <td>1.0</td>\n",
       "      <td>30.2</td>\n",
       "      <td>2</td>\n",
       "      <td>05:46 AM</td>\n",
       "      <td>05:52 PM</td>\n",
       "    </tr>\n",
       "  </tbody>\n",
       "</table>\n",
       "<p>2893 rows × 17 columns</p>\n",
       "</div>"
      ],
      "text/plain": [
       "     day_id city_id  temperature_celsius           condition_text  wind_kph  \\\n",
       "0     D0001    C001                 27.0                      NaN       6.1   \n",
       "1     D0002    C001                 22.0                      NaN       6.1   \n",
       "2     D0003    C001                 20.0  Light Rain with Thunder       3.6   \n",
       "3     D0004    C001                 17.0          Clear and Sunny       6.1   \n",
       "4     D0005    C001                 18.0                      NaN       3.6   \n",
       "...     ...     ...                  ...                      ...       ...   \n",
       "2888  D2889    C112                 17.1          Clear and Sunny      13.3   \n",
       "2889  D2890    C112                 17.4                      NaN      13.0   \n",
       "2890  D2891    C112                 19.2                      NaN      11.5   \n",
       "2891  D2892    C112                 19.2                      NaN      14.4   \n",
       "2892  D2893    C112                 18.6                      NaN      17.3   \n",
       "\n",
       "      wind_degree  pressure_mb  precip_mm  humidity  cloud  \\\n",
       "0             210       1006.0        0.0        54     75   \n",
       "1             170       1006.0        0.0        73     75   \n",
       "2              10       1011.0        4.5       100     75   \n",
       "3             150       1018.0        0.0        88      0   \n",
       "4              92       1019.0        0.0        94      0   \n",
       "...           ...          ...        ...       ...    ...   \n",
       "2888           61       1017.0        0.0        57      3   \n",
       "2889           51       1017.0        0.0        49      0   \n",
       "2890           46       1016.0        0.0        34      0   \n",
       "2891           76       1017.0        0.0        45      2   \n",
       "2892           61       1016.0        0.0        34      0   \n",
       "\n",
       "      feels_like_celsius  visibility_km  uv_index  gust_kph  \\\n",
       "0                   28.0           10.0       6.0      11.9   \n",
       "1                   24.5           10.0       1.0      23.4   \n",
       "2                   20.0           10.0       1.0      12.6   \n",
       "3                   17.0           10.0       1.0      11.2   \n",
       "4                   18.0           10.0       1.0       9.0   \n",
       "...                  ...            ...       ...       ...   \n",
       "2888                17.1           10.0       1.0      22.2   \n",
       "2889                17.4           10.0       1.0      22.2   \n",
       "2890                19.2           10.0       1.0      21.3   \n",
       "2891                19.2           10.0       1.0      24.9   \n",
       "2892                18.6           10.0       1.0      30.2   \n",
       "\n",
       "      air_quality_us-epa-index   sunrise    sunset  \n",
       "0                            2  06:04 AM  07:19 PM  \n",
       "1                            1  06:05 AM  07:18 PM  \n",
       "2                            1  06:05 AM  07:18 PM  \n",
       "3                            1  06:06 AM  07:16 PM  \n",
       "4                            1  06:07 AM  07:15 PM  \n",
       "...                        ...       ...       ...  \n",
       "2888                         1  05:49 AM  05:51 PM  \n",
       "2889                         1  05:49 AM  05:52 PM  \n",
       "2890                         2  05:48 AM  05:52 PM  \n",
       "2891                         2  05:47 AM  05:52 PM  \n",
       "2892                         2  05:46 AM  05:52 PM  \n",
       "\n",
       "[2893 rows x 17 columns]"
      ]
     },
     "execution_count": 3,
     "metadata": {},
     "output_type": "execute_result"
    }
   ],
   "source": [
    "dataset=pd.read_csv('/kaggle/input/predicta-1-0-predict-the-unpredictable-part-2/daily_data.csv')\n",
    "dataset"
   ]
  },
  {
   "cell_type": "code",
   "execution_count": 4,
   "id": "2ea2e3a4",
   "metadata": {
    "execution": {
     "iopub.execute_input": "2024-06-23T15:04:13.736324Z",
     "iopub.status.busy": "2024-06-23T15:04:13.735874Z",
     "iopub.status.idle": "2024-06-23T15:04:13.763131Z",
     "shell.execute_reply": "2024-06-23T15:04:13.761950Z"
    },
    "papermill": {
     "duration": 0.047765,
     "end_time": "2024-06-23T15:04:13.765706",
     "exception": false,
     "start_time": "2024-06-23T15:04:13.717941",
     "status": "completed"
    },
    "tags": []
   },
   "outputs": [
    {
     "data": {
      "text/html": [
       "<div>\n",
       "<style scoped>\n",
       "    .dataframe tbody tr th:only-of-type {\n",
       "        vertical-align: middle;\n",
       "    }\n",
       "\n",
       "    .dataframe tbody tr th {\n",
       "        vertical-align: top;\n",
       "    }\n",
       "\n",
       "    .dataframe thead th {\n",
       "        text-align: right;\n",
       "    }\n",
       "</style>\n",
       "<table border=\"1\" class=\"dataframe\">\n",
       "  <thead>\n",
       "    <tr style=\"text-align: right;\">\n",
       "      <th></th>\n",
       "      <th>city_id</th>\n",
       "      <th>temperature_celsius</th>\n",
       "      <th>condition_text</th>\n",
       "      <th>wind_kph</th>\n",
       "      <th>wind_degree</th>\n",
       "      <th>pressure_mb</th>\n",
       "      <th>precip_mm</th>\n",
       "      <th>humidity</th>\n",
       "      <th>cloud</th>\n",
       "      <th>feels_like_celsius</th>\n",
       "      <th>visibility_km</th>\n",
       "      <th>uv_index</th>\n",
       "      <th>gust_kph</th>\n",
       "      <th>air_quality_us-epa-index</th>\n",
       "      <th>sunrise</th>\n",
       "      <th>sunset</th>\n",
       "    </tr>\n",
       "    <tr>\n",
       "      <th>day_id</th>\n",
       "      <th></th>\n",
       "      <th></th>\n",
       "      <th></th>\n",
       "      <th></th>\n",
       "      <th></th>\n",
       "      <th></th>\n",
       "      <th></th>\n",
       "      <th></th>\n",
       "      <th></th>\n",
       "      <th></th>\n",
       "      <th></th>\n",
       "      <th></th>\n",
       "      <th></th>\n",
       "      <th></th>\n",
       "      <th></th>\n",
       "      <th></th>\n",
       "    </tr>\n",
       "  </thead>\n",
       "  <tbody>\n",
       "    <tr>\n",
       "      <th>D2889</th>\n",
       "      <td>C112</td>\n",
       "      <td>17.1</td>\n",
       "      <td>Clear and Sunny</td>\n",
       "      <td>13.3</td>\n",
       "      <td>61</td>\n",
       "      <td>1017.0</td>\n",
       "      <td>0.0</td>\n",
       "      <td>57</td>\n",
       "      <td>3</td>\n",
       "      <td>17.1</td>\n",
       "      <td>10.0</td>\n",
       "      <td>1.0</td>\n",
       "      <td>22.2</td>\n",
       "      <td>1</td>\n",
       "      <td>05:49 AM</td>\n",
       "      <td>05:51 PM</td>\n",
       "    </tr>\n",
       "    <tr>\n",
       "      <th>D2890</th>\n",
       "      <td>C112</td>\n",
       "      <td>17.4</td>\n",
       "      <td>NaN</td>\n",
       "      <td>13.0</td>\n",
       "      <td>51</td>\n",
       "      <td>1017.0</td>\n",
       "      <td>0.0</td>\n",
       "      <td>49</td>\n",
       "      <td>0</td>\n",
       "      <td>17.4</td>\n",
       "      <td>10.0</td>\n",
       "      <td>1.0</td>\n",
       "      <td>22.2</td>\n",
       "      <td>1</td>\n",
       "      <td>05:49 AM</td>\n",
       "      <td>05:52 PM</td>\n",
       "    </tr>\n",
       "    <tr>\n",
       "      <th>D2891</th>\n",
       "      <td>C112</td>\n",
       "      <td>19.2</td>\n",
       "      <td>NaN</td>\n",
       "      <td>11.5</td>\n",
       "      <td>46</td>\n",
       "      <td>1016.0</td>\n",
       "      <td>0.0</td>\n",
       "      <td>34</td>\n",
       "      <td>0</td>\n",
       "      <td>19.2</td>\n",
       "      <td>10.0</td>\n",
       "      <td>1.0</td>\n",
       "      <td>21.3</td>\n",
       "      <td>2</td>\n",
       "      <td>05:48 AM</td>\n",
       "      <td>05:52 PM</td>\n",
       "    </tr>\n",
       "    <tr>\n",
       "      <th>D2892</th>\n",
       "      <td>C112</td>\n",
       "      <td>19.2</td>\n",
       "      <td>NaN</td>\n",
       "      <td>14.4</td>\n",
       "      <td>76</td>\n",
       "      <td>1017.0</td>\n",
       "      <td>0.0</td>\n",
       "      <td>45</td>\n",
       "      <td>2</td>\n",
       "      <td>19.2</td>\n",
       "      <td>10.0</td>\n",
       "      <td>1.0</td>\n",
       "      <td>24.9</td>\n",
       "      <td>2</td>\n",
       "      <td>05:47 AM</td>\n",
       "      <td>05:52 PM</td>\n",
       "    </tr>\n",
       "    <tr>\n",
       "      <th>D2893</th>\n",
       "      <td>C112</td>\n",
       "      <td>18.6</td>\n",
       "      <td>NaN</td>\n",
       "      <td>17.3</td>\n",
       "      <td>61</td>\n",
       "      <td>1016.0</td>\n",
       "      <td>0.0</td>\n",
       "      <td>34</td>\n",
       "      <td>0</td>\n",
       "      <td>18.6</td>\n",
       "      <td>10.0</td>\n",
       "      <td>1.0</td>\n",
       "      <td>30.2</td>\n",
       "      <td>2</td>\n",
       "      <td>05:46 AM</td>\n",
       "      <td>05:52 PM</td>\n",
       "    </tr>\n",
       "  </tbody>\n",
       "</table>\n",
       "</div>"
      ],
      "text/plain": [
       "       city_id  temperature_celsius   condition_text  wind_kph  wind_degree  \\\n",
       "day_id                                                                        \n",
       "D2889     C112                 17.1  Clear and Sunny      13.3           61   \n",
       "D2890     C112                 17.4              NaN      13.0           51   \n",
       "D2891     C112                 19.2              NaN      11.5           46   \n",
       "D2892     C112                 19.2              NaN      14.4           76   \n",
       "D2893     C112                 18.6              NaN      17.3           61   \n",
       "\n",
       "        pressure_mb  precip_mm  humidity  cloud  feels_like_celsius  \\\n",
       "day_id                                                                \n",
       "D2889        1017.0        0.0        57      3                17.1   \n",
       "D2890        1017.0        0.0        49      0                17.4   \n",
       "D2891        1016.0        0.0        34      0                19.2   \n",
       "D2892        1017.0        0.0        45      2                19.2   \n",
       "D2893        1016.0        0.0        34      0                18.6   \n",
       "\n",
       "        visibility_km  uv_index  gust_kph  air_quality_us-epa-index   sunrise  \\\n",
       "day_id                                                                          \n",
       "D2889            10.0       1.0      22.2                         1  05:49 AM   \n",
       "D2890            10.0       1.0      22.2                         1  05:49 AM   \n",
       "D2891            10.0       1.0      21.3                         2  05:48 AM   \n",
       "D2892            10.0       1.0      24.9                         2  05:47 AM   \n",
       "D2893            10.0       1.0      30.2                         2  05:46 AM   \n",
       "\n",
       "          sunset  \n",
       "day_id            \n",
       "D2889   05:51 PM  \n",
       "D2890   05:52 PM  \n",
       "D2891   05:52 PM  \n",
       "D2892   05:52 PM  \n",
       "D2893   05:52 PM  "
      ]
     },
     "execution_count": 4,
     "metadata": {},
     "output_type": "execute_result"
    }
   ],
   "source": [
    "df = dataset.set_index(['day_id'])\n",
    "df.tail()"
   ]
  },
  {
   "cell_type": "code",
   "execution_count": 5,
   "id": "4b6ce7f4",
   "metadata": {
    "execution": {
     "iopub.execute_input": "2024-06-23T15:04:13.801618Z",
     "iopub.status.busy": "2024-06-23T15:04:13.801174Z",
     "iopub.status.idle": "2024-06-23T15:04:13.836310Z",
     "shell.execute_reply": "2024-06-23T15:04:13.835038Z"
    },
    "papermill": {
     "duration": 0.055847,
     "end_time": "2024-06-23T15:04:13.839009",
     "exception": false,
     "start_time": "2024-06-23T15:04:13.783162",
     "status": "completed"
    },
    "tags": []
   },
   "outputs": [
    {
     "data": {
      "text/html": [
       "<div>\n",
       "<style scoped>\n",
       "    .dataframe tbody tr th:only-of-type {\n",
       "        vertical-align: middle;\n",
       "    }\n",
       "\n",
       "    .dataframe tbody tr th {\n",
       "        vertical-align: top;\n",
       "    }\n",
       "\n",
       "    .dataframe thead th {\n",
       "        text-align: right;\n",
       "    }\n",
       "</style>\n",
       "<table border=\"1\" class=\"dataframe\">\n",
       "  <thead>\n",
       "    <tr style=\"text-align: right;\">\n",
       "      <th></th>\n",
       "      <th>temperature_celsius</th>\n",
       "      <th>condition_text</th>\n",
       "      <th>wind_kph</th>\n",
       "      <th>wind_degree</th>\n",
       "      <th>pressure_mb</th>\n",
       "      <th>precip_mm</th>\n",
       "      <th>humidity</th>\n",
       "      <th>cloud</th>\n",
       "      <th>feels_like_celsius</th>\n",
       "      <th>visibility_km</th>\n",
       "      <th>uv_index</th>\n",
       "      <th>gust_kph</th>\n",
       "      <th>air_quality_us-epa-index</th>\n",
       "    </tr>\n",
       "    <tr>\n",
       "      <th>day_id</th>\n",
       "      <th></th>\n",
       "      <th></th>\n",
       "      <th></th>\n",
       "      <th></th>\n",
       "      <th></th>\n",
       "      <th></th>\n",
       "      <th></th>\n",
       "      <th></th>\n",
       "      <th></th>\n",
       "      <th></th>\n",
       "      <th></th>\n",
       "      <th></th>\n",
       "      <th></th>\n",
       "    </tr>\n",
       "  </thead>\n",
       "  <tbody>\n",
       "    <tr>\n",
       "      <th>D0001</th>\n",
       "      <td>27.0</td>\n",
       "      <td>NaN</td>\n",
       "      <td>6.1</td>\n",
       "      <td>210</td>\n",
       "      <td>1006.0</td>\n",
       "      <td>0.0</td>\n",
       "      <td>54</td>\n",
       "      <td>75</td>\n",
       "      <td>28.0</td>\n",
       "      <td>10.0</td>\n",
       "      <td>6.0</td>\n",
       "      <td>11.9</td>\n",
       "      <td>2</td>\n",
       "    </tr>\n",
       "    <tr>\n",
       "      <th>D0002</th>\n",
       "      <td>22.0</td>\n",
       "      <td>NaN</td>\n",
       "      <td>6.1</td>\n",
       "      <td>170</td>\n",
       "      <td>1006.0</td>\n",
       "      <td>0.0</td>\n",
       "      <td>73</td>\n",
       "      <td>75</td>\n",
       "      <td>24.5</td>\n",
       "      <td>10.0</td>\n",
       "      <td>1.0</td>\n",
       "      <td>23.4</td>\n",
       "      <td>1</td>\n",
       "    </tr>\n",
       "    <tr>\n",
       "      <th>D0003</th>\n",
       "      <td>20.0</td>\n",
       "      <td>Light Rain with Thunder</td>\n",
       "      <td>3.6</td>\n",
       "      <td>10</td>\n",
       "      <td>1011.0</td>\n",
       "      <td>4.5</td>\n",
       "      <td>100</td>\n",
       "      <td>75</td>\n",
       "      <td>20.0</td>\n",
       "      <td>10.0</td>\n",
       "      <td>1.0</td>\n",
       "      <td>12.6</td>\n",
       "      <td>1</td>\n",
       "    </tr>\n",
       "    <tr>\n",
       "      <th>D0004</th>\n",
       "      <td>17.0</td>\n",
       "      <td>Clear and Sunny</td>\n",
       "      <td>6.1</td>\n",
       "      <td>150</td>\n",
       "      <td>1018.0</td>\n",
       "      <td>0.0</td>\n",
       "      <td>88</td>\n",
       "      <td>0</td>\n",
       "      <td>17.0</td>\n",
       "      <td>10.0</td>\n",
       "      <td>1.0</td>\n",
       "      <td>11.2</td>\n",
       "      <td>1</td>\n",
       "    </tr>\n",
       "    <tr>\n",
       "      <th>D0005</th>\n",
       "      <td>18.0</td>\n",
       "      <td>NaN</td>\n",
       "      <td>3.6</td>\n",
       "      <td>92</td>\n",
       "      <td>1019.0</td>\n",
       "      <td>0.0</td>\n",
       "      <td>94</td>\n",
       "      <td>0</td>\n",
       "      <td>18.0</td>\n",
       "      <td>10.0</td>\n",
       "      <td>1.0</td>\n",
       "      <td>9.0</td>\n",
       "      <td>1</td>\n",
       "    </tr>\n",
       "    <tr>\n",
       "      <th>...</th>\n",
       "      <td>...</td>\n",
       "      <td>...</td>\n",
       "      <td>...</td>\n",
       "      <td>...</td>\n",
       "      <td>...</td>\n",
       "      <td>...</td>\n",
       "      <td>...</td>\n",
       "      <td>...</td>\n",
       "      <td>...</td>\n",
       "      <td>...</td>\n",
       "      <td>...</td>\n",
       "      <td>...</td>\n",
       "      <td>...</td>\n",
       "    </tr>\n",
       "    <tr>\n",
       "      <th>D2889</th>\n",
       "      <td>17.1</td>\n",
       "      <td>Clear and Sunny</td>\n",
       "      <td>13.3</td>\n",
       "      <td>61</td>\n",
       "      <td>1017.0</td>\n",
       "      <td>0.0</td>\n",
       "      <td>57</td>\n",
       "      <td>3</td>\n",
       "      <td>17.1</td>\n",
       "      <td>10.0</td>\n",
       "      <td>1.0</td>\n",
       "      <td>22.2</td>\n",
       "      <td>1</td>\n",
       "    </tr>\n",
       "    <tr>\n",
       "      <th>D2890</th>\n",
       "      <td>17.4</td>\n",
       "      <td>NaN</td>\n",
       "      <td>13.0</td>\n",
       "      <td>51</td>\n",
       "      <td>1017.0</td>\n",
       "      <td>0.0</td>\n",
       "      <td>49</td>\n",
       "      <td>0</td>\n",
       "      <td>17.4</td>\n",
       "      <td>10.0</td>\n",
       "      <td>1.0</td>\n",
       "      <td>22.2</td>\n",
       "      <td>1</td>\n",
       "    </tr>\n",
       "    <tr>\n",
       "      <th>D2891</th>\n",
       "      <td>19.2</td>\n",
       "      <td>NaN</td>\n",
       "      <td>11.5</td>\n",
       "      <td>46</td>\n",
       "      <td>1016.0</td>\n",
       "      <td>0.0</td>\n",
       "      <td>34</td>\n",
       "      <td>0</td>\n",
       "      <td>19.2</td>\n",
       "      <td>10.0</td>\n",
       "      <td>1.0</td>\n",
       "      <td>21.3</td>\n",
       "      <td>2</td>\n",
       "    </tr>\n",
       "    <tr>\n",
       "      <th>D2892</th>\n",
       "      <td>19.2</td>\n",
       "      <td>NaN</td>\n",
       "      <td>14.4</td>\n",
       "      <td>76</td>\n",
       "      <td>1017.0</td>\n",
       "      <td>0.0</td>\n",
       "      <td>45</td>\n",
       "      <td>2</td>\n",
       "      <td>19.2</td>\n",
       "      <td>10.0</td>\n",
       "      <td>1.0</td>\n",
       "      <td>24.9</td>\n",
       "      <td>2</td>\n",
       "    </tr>\n",
       "    <tr>\n",
       "      <th>D2893</th>\n",
       "      <td>18.6</td>\n",
       "      <td>NaN</td>\n",
       "      <td>17.3</td>\n",
       "      <td>61</td>\n",
       "      <td>1016.0</td>\n",
       "      <td>0.0</td>\n",
       "      <td>34</td>\n",
       "      <td>0</td>\n",
       "      <td>18.6</td>\n",
       "      <td>10.0</td>\n",
       "      <td>1.0</td>\n",
       "      <td>30.2</td>\n",
       "      <td>2</td>\n",
       "    </tr>\n",
       "  </tbody>\n",
       "</table>\n",
       "<p>2893 rows × 13 columns</p>\n",
       "</div>"
      ],
      "text/plain": [
       "        temperature_celsius           condition_text  wind_kph  wind_degree  \\\n",
       "day_id                                                                        \n",
       "D0001                  27.0                      NaN       6.1          210   \n",
       "D0002                  22.0                      NaN       6.1          170   \n",
       "D0003                  20.0  Light Rain with Thunder       3.6           10   \n",
       "D0004                  17.0          Clear and Sunny       6.1          150   \n",
       "D0005                  18.0                      NaN       3.6           92   \n",
       "...                     ...                      ...       ...          ...   \n",
       "D2889                  17.1          Clear and Sunny      13.3           61   \n",
       "D2890                  17.4                      NaN      13.0           51   \n",
       "D2891                  19.2                      NaN      11.5           46   \n",
       "D2892                  19.2                      NaN      14.4           76   \n",
       "D2893                  18.6                      NaN      17.3           61   \n",
       "\n",
       "        pressure_mb  precip_mm  humidity  cloud  feels_like_celsius  \\\n",
       "day_id                                                                \n",
       "D0001        1006.0        0.0        54     75                28.0   \n",
       "D0002        1006.0        0.0        73     75                24.5   \n",
       "D0003        1011.0        4.5       100     75                20.0   \n",
       "D0004        1018.0        0.0        88      0                17.0   \n",
       "D0005        1019.0        0.0        94      0                18.0   \n",
       "...             ...        ...       ...    ...                 ...   \n",
       "D2889        1017.0        0.0        57      3                17.1   \n",
       "D2890        1017.0        0.0        49      0                17.4   \n",
       "D2891        1016.0        0.0        34      0                19.2   \n",
       "D2892        1017.0        0.0        45      2                19.2   \n",
       "D2893        1016.0        0.0        34      0                18.6   \n",
       "\n",
       "        visibility_km  uv_index  gust_kph  air_quality_us-epa-index  \n",
       "day_id                                                               \n",
       "D0001            10.0       6.0      11.9                         2  \n",
       "D0002            10.0       1.0      23.4                         1  \n",
       "D0003            10.0       1.0      12.6                         1  \n",
       "D0004            10.0       1.0      11.2                         1  \n",
       "D0005            10.0       1.0       9.0                         1  \n",
       "...               ...       ...       ...                       ...  \n",
       "D2889            10.0       1.0      22.2                         1  \n",
       "D2890            10.0       1.0      22.2                         1  \n",
       "D2891            10.0       1.0      21.3                         2  \n",
       "D2892            10.0       1.0      24.9                         2  \n",
       "D2893            10.0       1.0      30.2                         2  \n",
       "\n",
       "[2893 rows x 13 columns]"
      ]
     },
     "execution_count": 5,
     "metadata": {},
     "output_type": "execute_result"
    }
   ],
   "source": [
    "# Drop unnecessary columns\n",
    "df1 = df.drop(['city_id', 'sunrise', 'sunset'], axis=1)\n",
    "df1"
   ]
  },
  {
   "cell_type": "code",
   "execution_count": 6,
   "id": "7762e42d",
   "metadata": {
    "execution": {
     "iopub.execute_input": "2024-06-23T15:04:13.875037Z",
     "iopub.status.busy": "2024-06-23T15:04:13.874581Z",
     "iopub.status.idle": "2024-06-23T15:04:13.886986Z",
     "shell.execute_reply": "2024-06-23T15:04:13.885730Z"
    },
    "papermill": {
     "duration": 0.033697,
     "end_time": "2024-06-23T15:04:13.889763",
     "exception": false,
     "start_time": "2024-06-23T15:04:13.856066",
     "status": "completed"
    },
    "tags": []
   },
   "outputs": [
    {
     "data": {
      "text/plain": [
       "temperature_celsius            0\n",
       "condition_text              2414\n",
       "wind_kph                       0\n",
       "wind_degree                    0\n",
       "pressure_mb                    0\n",
       "precip_mm                      0\n",
       "humidity                       0\n",
       "cloud                          0\n",
       "feels_like_celsius             0\n",
       "visibility_km                  0\n",
       "uv_index                       0\n",
       "gust_kph                       0\n",
       "air_quality_us-epa-index       0\n",
       "dtype: int64"
      ]
     },
     "execution_count": 6,
     "metadata": {},
     "output_type": "execute_result"
    }
   ],
   "source": [
    "df1.isnull().sum()"
   ]
  },
  {
   "cell_type": "code",
   "execution_count": 7,
   "id": "a04eb4b7",
   "metadata": {
    "execution": {
     "iopub.execute_input": "2024-06-23T15:04:13.926754Z",
     "iopub.status.busy": "2024-06-23T15:04:13.925527Z",
     "iopub.status.idle": "2024-06-23T15:04:13.956797Z",
     "shell.execute_reply": "2024-06-23T15:04:13.955455Z"
    },
    "papermill": {
     "duration": 0.052685,
     "end_time": "2024-06-23T15:04:13.959571",
     "exception": false,
     "start_time": "2024-06-23T15:04:13.906886",
     "status": "completed"
    },
    "tags": []
   },
   "outputs": [
    {
     "data": {
      "text/html": [
       "<div>\n",
       "<style scoped>\n",
       "    .dataframe tbody tr th:only-of-type {\n",
       "        vertical-align: middle;\n",
       "    }\n",
       "\n",
       "    .dataframe tbody tr th {\n",
       "        vertical-align: top;\n",
       "    }\n",
       "\n",
       "    .dataframe thead th {\n",
       "        text-align: right;\n",
       "    }\n",
       "</style>\n",
       "<table border=\"1\" class=\"dataframe\">\n",
       "  <thead>\n",
       "    <tr style=\"text-align: right;\">\n",
       "      <th></th>\n",
       "      <th>temperature_celsius</th>\n",
       "      <th>condition_text</th>\n",
       "      <th>wind_kph</th>\n",
       "      <th>wind_degree</th>\n",
       "      <th>pressure_mb</th>\n",
       "      <th>precip_mm</th>\n",
       "      <th>humidity</th>\n",
       "      <th>cloud</th>\n",
       "      <th>feels_like_celsius</th>\n",
       "      <th>visibility_km</th>\n",
       "      <th>uv_index</th>\n",
       "      <th>gust_kph</th>\n",
       "      <th>air_quality_us-epa-index</th>\n",
       "    </tr>\n",
       "    <tr>\n",
       "      <th>day_id</th>\n",
       "      <th></th>\n",
       "      <th></th>\n",
       "      <th></th>\n",
       "      <th></th>\n",
       "      <th></th>\n",
       "      <th></th>\n",
       "      <th></th>\n",
       "      <th></th>\n",
       "      <th></th>\n",
       "      <th></th>\n",
       "      <th></th>\n",
       "      <th></th>\n",
       "      <th></th>\n",
       "    </tr>\n",
       "  </thead>\n",
       "  <tbody>\n",
       "    <tr>\n",
       "      <th>D0003</th>\n",
       "      <td>20.0</td>\n",
       "      <td>Light Rain with Thunder</td>\n",
       "      <td>3.6</td>\n",
       "      <td>10</td>\n",
       "      <td>1011.0</td>\n",
       "      <td>4.50</td>\n",
       "      <td>100</td>\n",
       "      <td>75</td>\n",
       "      <td>20.0</td>\n",
       "      <td>10.0</td>\n",
       "      <td>1.0</td>\n",
       "      <td>12.6</td>\n",
       "      <td>1</td>\n",
       "    </tr>\n",
       "    <tr>\n",
       "      <th>D0004</th>\n",
       "      <td>17.0</td>\n",
       "      <td>Clear and Sunny</td>\n",
       "      <td>6.1</td>\n",
       "      <td>150</td>\n",
       "      <td>1018.0</td>\n",
       "      <td>0.00</td>\n",
       "      <td>88</td>\n",
       "      <td>0</td>\n",
       "      <td>17.0</td>\n",
       "      <td>10.0</td>\n",
       "      <td>1.0</td>\n",
       "      <td>11.2</td>\n",
       "      <td>1</td>\n",
       "    </tr>\n",
       "    <tr>\n",
       "      <th>D0007</th>\n",
       "      <td>21.0</td>\n",
       "      <td>Partly Cloudy</td>\n",
       "      <td>4.0</td>\n",
       "      <td>310</td>\n",
       "      <td>1015.0</td>\n",
       "      <td>0.00</td>\n",
       "      <td>100</td>\n",
       "      <td>50</td>\n",
       "      <td>21.0</td>\n",
       "      <td>10.0</td>\n",
       "      <td>1.0</td>\n",
       "      <td>15.1</td>\n",
       "      <td>2</td>\n",
       "    </tr>\n",
       "    <tr>\n",
       "      <th>D0019</th>\n",
       "      <td>19.0</td>\n",
       "      <td>Clear and Sunny</td>\n",
       "      <td>3.6</td>\n",
       "      <td>64</td>\n",
       "      <td>1017.0</td>\n",
       "      <td>0.00</td>\n",
       "      <td>88</td>\n",
       "      <td>0</td>\n",
       "      <td>19.0</td>\n",
       "      <td>10.0</td>\n",
       "      <td>1.0</td>\n",
       "      <td>8.3</td>\n",
       "      <td>3</td>\n",
       "    </tr>\n",
       "    <tr>\n",
       "      <th>D0028</th>\n",
       "      <td>19.0</td>\n",
       "      <td>Partly Cloudy</td>\n",
       "      <td>3.6</td>\n",
       "      <td>83</td>\n",
       "      <td>1010.0</td>\n",
       "      <td>0.00</td>\n",
       "      <td>73</td>\n",
       "      <td>25</td>\n",
       "      <td>19.0</td>\n",
       "      <td>10.0</td>\n",
       "      <td>1.0</td>\n",
       "      <td>8.3</td>\n",
       "      <td>1</td>\n",
       "    </tr>\n",
       "    <tr>\n",
       "      <th>...</th>\n",
       "      <td>...</td>\n",
       "      <td>...</td>\n",
       "      <td>...</td>\n",
       "      <td>...</td>\n",
       "      <td>...</td>\n",
       "      <td>...</td>\n",
       "      <td>...</td>\n",
       "      <td>...</td>\n",
       "      <td>...</td>\n",
       "      <td>...</td>\n",
       "      <td>...</td>\n",
       "      <td>...</td>\n",
       "      <td>...</td>\n",
       "    </tr>\n",
       "    <tr>\n",
       "      <th>D2839</th>\n",
       "      <td>27.0</td>\n",
       "      <td>Partly Cloudy</td>\n",
       "      <td>19.1</td>\n",
       "      <td>90</td>\n",
       "      <td>1014.0</td>\n",
       "      <td>0.01</td>\n",
       "      <td>70</td>\n",
       "      <td>25</td>\n",
       "      <td>29.8</td>\n",
       "      <td>10.0</td>\n",
       "      <td>6.0</td>\n",
       "      <td>45.6</td>\n",
       "      <td>1</td>\n",
       "    </tr>\n",
       "    <tr>\n",
       "      <th>D2864</th>\n",
       "      <td>21.4</td>\n",
       "      <td>Light Precipitation</td>\n",
       "      <td>3.6</td>\n",
       "      <td>178</td>\n",
       "      <td>1012.0</td>\n",
       "      <td>0.00</td>\n",
       "      <td>89</td>\n",
       "      <td>75</td>\n",
       "      <td>21.4</td>\n",
       "      <td>10.0</td>\n",
       "      <td>6.0</td>\n",
       "      <td>6.6</td>\n",
       "      <td>1</td>\n",
       "    </tr>\n",
       "    <tr>\n",
       "      <th>D2874</th>\n",
       "      <td>16.9</td>\n",
       "      <td>Clear and Sunny</td>\n",
       "      <td>16.6</td>\n",
       "      <td>68</td>\n",
       "      <td>1018.0</td>\n",
       "      <td>0.00</td>\n",
       "      <td>44</td>\n",
       "      <td>2</td>\n",
       "      <td>16.9</td>\n",
       "      <td>10.0</td>\n",
       "      <td>1.0</td>\n",
       "      <td>27.0</td>\n",
       "      <td>1</td>\n",
       "    </tr>\n",
       "    <tr>\n",
       "      <th>D2887</th>\n",
       "      <td>19.5</td>\n",
       "      <td>Clear and Sunny</td>\n",
       "      <td>5.4</td>\n",
       "      <td>27</td>\n",
       "      <td>1014.0</td>\n",
       "      <td>0.00</td>\n",
       "      <td>34</td>\n",
       "      <td>0</td>\n",
       "      <td>19.4</td>\n",
       "      <td>10.0</td>\n",
       "      <td>1.0</td>\n",
       "      <td>11.2</td>\n",
       "      <td>2</td>\n",
       "    </tr>\n",
       "    <tr>\n",
       "      <th>D2889</th>\n",
       "      <td>17.1</td>\n",
       "      <td>Clear and Sunny</td>\n",
       "      <td>13.3</td>\n",
       "      <td>61</td>\n",
       "      <td>1017.0</td>\n",
       "      <td>0.00</td>\n",
       "      <td>57</td>\n",
       "      <td>3</td>\n",
       "      <td>17.1</td>\n",
       "      <td>10.0</td>\n",
       "      <td>1.0</td>\n",
       "      <td>22.2</td>\n",
       "      <td>1</td>\n",
       "    </tr>\n",
       "  </tbody>\n",
       "</table>\n",
       "<p>479 rows × 13 columns</p>\n",
       "</div>"
      ],
      "text/plain": [
       "        temperature_celsius           condition_text  wind_kph  wind_degree  \\\n",
       "day_id                                                                        \n",
       "D0003                  20.0  Light Rain with Thunder       3.6           10   \n",
       "D0004                  17.0          Clear and Sunny       6.1          150   \n",
       "D0007                  21.0            Partly Cloudy       4.0          310   \n",
       "D0019                  19.0          Clear and Sunny       3.6           64   \n",
       "D0028                  19.0            Partly Cloudy       3.6           83   \n",
       "...                     ...                      ...       ...          ...   \n",
       "D2839                  27.0            Partly Cloudy      19.1           90   \n",
       "D2864                  21.4      Light Precipitation       3.6          178   \n",
       "D2874                  16.9          Clear and Sunny      16.6           68   \n",
       "D2887                  19.5          Clear and Sunny       5.4           27   \n",
       "D2889                  17.1          Clear and Sunny      13.3           61   \n",
       "\n",
       "        pressure_mb  precip_mm  humidity  cloud  feels_like_celsius  \\\n",
       "day_id                                                                \n",
       "D0003        1011.0       4.50       100     75                20.0   \n",
       "D0004        1018.0       0.00        88      0                17.0   \n",
       "D0007        1015.0       0.00       100     50                21.0   \n",
       "D0019        1017.0       0.00        88      0                19.0   \n",
       "D0028        1010.0       0.00        73     25                19.0   \n",
       "...             ...        ...       ...    ...                 ...   \n",
       "D2839        1014.0       0.01        70     25                29.8   \n",
       "D2864        1012.0       0.00        89     75                21.4   \n",
       "D2874        1018.0       0.00        44      2                16.9   \n",
       "D2887        1014.0       0.00        34      0                19.4   \n",
       "D2889        1017.0       0.00        57      3                17.1   \n",
       "\n",
       "        visibility_km  uv_index  gust_kph  air_quality_us-epa-index  \n",
       "day_id                                                               \n",
       "D0003            10.0       1.0      12.6                         1  \n",
       "D0004            10.0       1.0      11.2                         1  \n",
       "D0007            10.0       1.0      15.1                         2  \n",
       "D0019            10.0       1.0       8.3                         3  \n",
       "D0028            10.0       1.0       8.3                         1  \n",
       "...               ...       ...       ...                       ...  \n",
       "D2839            10.0       6.0      45.6                         1  \n",
       "D2864            10.0       6.0       6.6                         1  \n",
       "D2874            10.0       1.0      27.0                         1  \n",
       "D2887            10.0       1.0      11.2                         2  \n",
       "D2889            10.0       1.0      22.2                         1  \n",
       "\n",
       "[479 rows x 13 columns]"
      ]
     },
     "execution_count": 7,
     "metadata": {},
     "output_type": "execute_result"
    }
   ],
   "source": [
    "df2 = df1[df1['condition_text'].notnull()]\n",
    "df2"
   ]
  },
  {
   "cell_type": "code",
   "execution_count": 8,
   "id": "0c405563",
   "metadata": {
    "execution": {
     "iopub.execute_input": "2024-06-23T15:04:13.997305Z",
     "iopub.status.busy": "2024-06-23T15:04:13.996893Z",
     "iopub.status.idle": "2024-06-23T15:04:14.007794Z",
     "shell.execute_reply": "2024-06-23T15:04:14.006155Z"
    },
    "papermill": {
     "duration": 0.03328,
     "end_time": "2024-06-23T15:04:14.010840",
     "exception": false,
     "start_time": "2024-06-23T15:04:13.977560",
     "status": "completed"
    },
    "tags": []
   },
   "outputs": [
    {
     "data": {
      "text/plain": [
       "temperature_celsius         0\n",
       "condition_text              0\n",
       "wind_kph                    0\n",
       "wind_degree                 0\n",
       "pressure_mb                 0\n",
       "precip_mm                   0\n",
       "humidity                    0\n",
       "cloud                       0\n",
       "feels_like_celsius          0\n",
       "visibility_km               0\n",
       "uv_index                    0\n",
       "gust_kph                    0\n",
       "air_quality_us-epa-index    0\n",
       "dtype: int64"
      ]
     },
     "execution_count": 8,
     "metadata": {},
     "output_type": "execute_result"
    }
   ],
   "source": [
    "df2.isnull().sum()"
   ]
  },
  {
   "cell_type": "code",
   "execution_count": 9,
   "id": "66f433e2",
   "metadata": {
    "execution": {
     "iopub.execute_input": "2024-06-23T15:04:14.048865Z",
     "iopub.status.busy": "2024-06-23T15:04:14.048441Z",
     "iopub.status.idle": "2024-06-23T15:04:14.056229Z",
     "shell.execute_reply": "2024-06-23T15:04:14.054892Z"
    },
    "papermill": {
     "duration": 0.029685,
     "end_time": "2024-06-23T15:04:14.058725",
     "exception": false,
     "start_time": "2024-06-23T15:04:14.029040",
     "status": "completed"
    },
    "tags": []
   },
   "outputs": [
    {
     "data": {
      "text/plain": [
       "(479, 13)"
      ]
     },
     "execution_count": 9,
     "metadata": {},
     "output_type": "execute_result"
    }
   ],
   "source": [
    "df2.shape"
   ]
  },
  {
   "cell_type": "code",
   "execution_count": 10,
   "id": "16d0673a",
   "metadata": {
    "execution": {
     "iopub.execute_input": "2024-06-23T15:04:14.097215Z",
     "iopub.status.busy": "2024-06-23T15:04:14.096836Z",
     "iopub.status.idle": "2024-06-23T15:04:14.597149Z",
     "shell.execute_reply": "2024-06-23T15:04:14.595947Z"
    },
    "papermill": {
     "duration": 0.522615,
     "end_time": "2024-06-23T15:04:14.599865",
     "exception": false,
     "start_time": "2024-06-23T15:04:14.077250",
     "status": "completed"
    },
    "tags": []
   },
   "outputs": [
    {
     "data": {
      "text/plain": [
       "<Axes: ylabel='count'>"
      ]
     },
     "execution_count": 10,
     "metadata": {},
     "output_type": "execute_result"
    },
    {
     "data": {
      "image/png": "[encoded data removed]",
      "text/plain": [
       "<Figure size 2000x500 with 1 Axes>"
      ]
     },
     "metadata": {},
     "output_type": "display_data"
    }
   ],
   "source": [
    "plt.figure(figsize=(20,5))\n",
    "# Font size for labels\n",
    "label_fontsize = 6\n",
    "sns.countplot(data=df2)"
   ]
  },
  {
   "cell_type": "code",
   "execution_count": 11,
   "id": "5f9f7c97",
   "metadata": {
    "execution": {
     "iopub.execute_input": "2024-06-23T15:04:14.640200Z",
     "iopub.status.busy": "2024-06-23T15:04:14.639451Z",
     "iopub.status.idle": "2024-06-23T15:04:14.650886Z",
     "shell.execute_reply": "2024-06-23T15:04:14.649640Z"
    },
    "papermill": {
     "duration": 0.034985,
     "end_time": "2024-06-23T15:04:14.653668",
     "exception": false,
     "start_time": "2024-06-23T15:04:14.618683",
     "status": "completed"
    },
    "tags": []
   },
   "outputs": [
    {
     "data": {
      "text/plain": [
       "array(['Light Rain with Thunder', 'Clear and Sunny', 'Partly Cloudy',\n",
       "       'Light Precipitation', 'Cloudy and Overcast', 'Mist or Fog',\n",
       "       'Rain Showers', 'Moderate to Heavy Rain', 'Thunderstorms'],\n",
       "      dtype=object)"
      ]
     },
     "execution_count": 11,
     "metadata": {},
     "output_type": "execute_result"
    }
   ],
   "source": [
    "df2.condition_text.unique()"
   ]
  },
  {
   "cell_type": "code",
   "execution_count": 12,
   "id": "58177457",
   "metadata": {
    "execution": {
     "iopub.execute_input": "2024-06-23T15:04:14.695278Z",
     "iopub.status.busy": "2024-06-23T15:04:14.694882Z",
     "iopub.status.idle": "2024-06-23T15:04:14.707439Z",
     "shell.execute_reply": "2024-06-23T15:04:14.706255Z"
    },
    "papermill": {
     "duration": 0.035774,
     "end_time": "2024-06-23T15:04:14.710329",
     "exception": false,
     "start_time": "2024-06-23T15:04:14.674555",
     "status": "completed"
    },
    "tags": []
   },
   "outputs": [
    {
     "data": {
      "text/plain": [
       "condition_text\n",
       "Clear and Sunny            122\n",
       "Partly Cloudy              122\n",
       "Light Precipitation         68\n",
       "Cloudy and Overcast         53\n",
       "Mist or Fog                 50\n",
       "Rain Showers                21\n",
       "Light Rain with Thunder     16\n",
       "Thunderstorms               15\n",
       "Moderate to Heavy Rain      12\n",
       "Name: count, dtype: int64"
      ]
     },
     "execution_count": 12,
     "metadata": {},
     "output_type": "execute_result"
    }
   ],
   "source": [
    "df2['condition_text'].value_counts()"
   ]
  },
  {
   "cell_type": "code",
   "execution_count": 13,
   "id": "1b90185a",
   "metadata": {
    "execution": {
     "iopub.execute_input": "2024-06-23T15:04:14.750957Z",
     "iopub.status.busy": "2024-06-23T15:04:14.750496Z",
     "iopub.status.idle": "2024-06-23T15:04:14.771270Z",
     "shell.execute_reply": "2024-06-23T15:04:14.770042Z"
    },
    "papermill": {
     "duration": 0.043729,
     "end_time": "2024-06-23T15:04:14.773745",
     "exception": false,
     "start_time": "2024-06-23T15:04:14.730016",
     "status": "completed"
    },
    "tags": []
   },
   "outputs": [
    {
     "data": {
      "text/html": [
       "<div>\n",
       "<style scoped>\n",
       "    .dataframe tbody tr th:only-of-type {\n",
       "        vertical-align: middle;\n",
       "    }\n",
       "\n",
       "    .dataframe tbody tr th {\n",
       "        vertical-align: top;\n",
       "    }\n",
       "\n",
       "    .dataframe thead th {\n",
       "        text-align: right;\n",
       "    }\n",
       "</style>\n",
       "<table border=\"1\" class=\"dataframe\">\n",
       "  <thead>\n",
       "    <tr style=\"text-align: right;\">\n",
       "      <th></th>\n",
       "      <th>temperature_celsius</th>\n",
       "      <th>wind_kph</th>\n",
       "      <th>wind_degree</th>\n",
       "      <th>pressure_mb</th>\n",
       "      <th>precip_mm</th>\n",
       "      <th>humidity</th>\n",
       "      <th>cloud</th>\n",
       "      <th>feels_like_celsius</th>\n",
       "      <th>visibility_km</th>\n",
       "      <th>uv_index</th>\n",
       "      <th>gust_kph</th>\n",
       "      <th>air_quality_us-epa-index</th>\n",
       "    </tr>\n",
       "    <tr>\n",
       "      <th>condition_text</th>\n",
       "      <th></th>\n",
       "      <th></th>\n",
       "      <th></th>\n",
       "      <th></th>\n",
       "      <th></th>\n",
       "      <th></th>\n",
       "      <th></th>\n",
       "      <th></th>\n",
       "      <th></th>\n",
       "      <th></th>\n",
       "      <th></th>\n",
       "      <th></th>\n",
       "    </tr>\n",
       "  </thead>\n",
       "  <tbody>\n",
       "    <tr>\n",
       "      <th>Clear and Sunny</th>\n",
       "      <td>122</td>\n",
       "      <td>122</td>\n",
       "      <td>122</td>\n",
       "      <td>122</td>\n",
       "      <td>122</td>\n",
       "      <td>122</td>\n",
       "      <td>122</td>\n",
       "      <td>122</td>\n",
       "      <td>122</td>\n",
       "      <td>122</td>\n",
       "      <td>122</td>\n",
       "      <td>122</td>\n",
       "    </tr>\n",
       "    <tr>\n",
       "      <th>Cloudy and Overcast</th>\n",
       "      <td>53</td>\n",
       "      <td>53</td>\n",
       "      <td>53</td>\n",
       "      <td>53</td>\n",
       "      <td>53</td>\n",
       "      <td>53</td>\n",
       "      <td>53</td>\n",
       "      <td>53</td>\n",
       "      <td>53</td>\n",
       "      <td>53</td>\n",
       "      <td>53</td>\n",
       "      <td>53</td>\n",
       "    </tr>\n",
       "    <tr>\n",
       "      <th>Light Precipitation</th>\n",
       "      <td>68</td>\n",
       "      <td>68</td>\n",
       "      <td>68</td>\n",
       "      <td>68</td>\n",
       "      <td>68</td>\n",
       "      <td>68</td>\n",
       "      <td>68</td>\n",
       "      <td>68</td>\n",
       "      <td>68</td>\n",
       "      <td>68</td>\n",
       "      <td>68</td>\n",
       "      <td>68</td>\n",
       "    </tr>\n",
       "    <tr>\n",
       "      <th>Light Rain with Thunder</th>\n",
       "      <td>16</td>\n",
       "      <td>16</td>\n",
       "      <td>16</td>\n",
       "      <td>16</td>\n",
       "      <td>16</td>\n",
       "      <td>16</td>\n",
       "      <td>16</td>\n",
       "      <td>16</td>\n",
       "      <td>16</td>\n",
       "      <td>16</td>\n",
       "      <td>16</td>\n",
       "      <td>16</td>\n",
       "    </tr>\n",
       "    <tr>\n",
       "      <th>Mist or Fog</th>\n",
       "      <td>50</td>\n",
       "      <td>50</td>\n",
       "      <td>50</td>\n",
       "      <td>50</td>\n",
       "      <td>50</td>\n",
       "      <td>50</td>\n",
       "      <td>50</td>\n",
       "      <td>50</td>\n",
       "      <td>50</td>\n",
       "      <td>50</td>\n",
       "      <td>50</td>\n",
       "      <td>50</td>\n",
       "    </tr>\n",
       "    <tr>\n",
       "      <th>Moderate to Heavy Rain</th>\n",
       "      <td>12</td>\n",
       "      <td>12</td>\n",
       "      <td>12</td>\n",
       "      <td>12</td>\n",
       "      <td>12</td>\n",
       "      <td>12</td>\n",
       "      <td>12</td>\n",
       "      <td>12</td>\n",
       "      <td>12</td>\n",
       "      <td>12</td>\n",
       "      <td>12</td>\n",
       "      <td>12</td>\n",
       "    </tr>\n",
       "    <tr>\n",
       "      <th>Partly Cloudy</th>\n",
       "      <td>122</td>\n",
       "      <td>122</td>\n",
       "      <td>122</td>\n",
       "      <td>122</td>\n",
       "      <td>122</td>\n",
       "      <td>122</td>\n",
       "      <td>122</td>\n",
       "      <td>122</td>\n",
       "      <td>122</td>\n",
       "      <td>122</td>\n",
       "      <td>122</td>\n",
       "      <td>122</td>\n",
       "    </tr>\n",
       "    <tr>\n",
       "      <th>Rain Showers</th>\n",
       "      <td>21</td>\n",
       "      <td>21</td>\n",
       "      <td>21</td>\n",
       "      <td>21</td>\n",
       "      <td>21</td>\n",
       "      <td>21</td>\n",
       "      <td>21</td>\n",
       "      <td>21</td>\n",
       "      <td>21</td>\n",
       "      <td>21</td>\n",
       "      <td>21</td>\n",
       "      <td>21</td>\n",
       "    </tr>\n",
       "    <tr>\n",
       "      <th>Thunderstorms</th>\n",
       "      <td>15</td>\n",
       "      <td>15</td>\n",
       "      <td>15</td>\n",
       "      <td>15</td>\n",
       "      <td>15</td>\n",
       "      <td>15</td>\n",
       "      <td>15</td>\n",
       "      <td>15</td>\n",
       "      <td>15</td>\n",
       "      <td>15</td>\n",
       "      <td>15</td>\n",
       "      <td>15</td>\n",
       "    </tr>\n",
       "  </tbody>\n",
       "</table>\n",
       "</div>"
      ],
      "text/plain": [
       "                         temperature_celsius  wind_kph  wind_degree  \\\n",
       "condition_text                                                        \n",
       "Clear and Sunny                          122       122          122   \n",
       "Cloudy and Overcast                       53        53           53   \n",
       "Light Precipitation                       68        68           68   \n",
       "Light Rain with Thunder                   16        16           16   \n",
       "Mist or Fog                               50        50           50   \n",
       "Moderate to Heavy Rain                    12        12           12   \n",
       "Partly Cloudy                            122       122          122   \n",
       "Rain Showers                              21        21           21   \n",
       "Thunderstorms                             15        15           15   \n",
       "\n",
       "                         pressure_mb  precip_mm  humidity  cloud  \\\n",
       "condition_text                                                     \n",
       "Clear and Sunny                  122        122       122    122   \n",
       "Cloudy and Overcast               53         53        53     53   \n",
       "Light Precipitation               68         68        68     68   \n",
       "Light Rain with Thunder           16         16        16     16   \n",
       "Mist or Fog                       50         50        50     50   \n",
       "Moderate to Heavy Rain            12         12        12     12   \n",
       "Partly Cloudy                    122        122       122    122   \n",
       "Rain Showers                      21         21        21     21   \n",
       "Thunderstorms                     15         15        15     15   \n",
       "\n",
       "                         feels_like_celsius  visibility_km  uv_index  \\\n",
       "condition_text                                                         \n",
       "Clear and Sunny                         122            122       122   \n",
       "Cloudy and Overcast                      53             53        53   \n",
       "Light Precipitation                      68             68        68   \n",
       "Light Rain with Thunder                  16             16        16   \n",
       "Mist or Fog                              50             50        50   \n",
       "Moderate to Heavy Rain                   12             12        12   \n",
       "Partly Cloudy                           122            122       122   \n",
       "Rain Showers                             21             21        21   \n",
       "Thunderstorms                            15             15        15   \n",
       "\n",
       "                         gust_kph  air_quality_us-epa-index  \n",
       "condition_text                                               \n",
       "Clear and Sunny               122                       122  \n",
       "Cloudy and Overcast            53                        53  \n",
       "Light Precipitation            68                        68  \n",
       "Light Rain with Thunder        16                        16  \n",
       "Mist or Fog                    50                        50  \n",
       "Moderate to Heavy Rain         12                        12  \n",
       "Partly Cloudy                 122                       122  \n",
       "Rain Showers                   21                        21  \n",
       "Thunderstorms                  15                        15  "
      ]
     },
     "execution_count": 13,
     "metadata": {},
     "output_type": "execute_result"
    }
   ],
   "source": [
    "df2.groupby('condition_text').count()"
   ]
  },
  {
   "cell_type": "code",
   "execution_count": 14,
   "id": "5a36cc38",
   "metadata": {
    "execution": {
     "iopub.execute_input": "2024-06-23T15:04:14.814934Z",
     "iopub.status.busy": "2024-06-23T15:04:14.814464Z",
     "iopub.status.idle": "2024-06-23T15:04:14.823087Z",
     "shell.execute_reply": "2024-06-23T15:04:14.821895Z"
    },
    "papermill": {
     "duration": 0.032123,
     "end_time": "2024-06-23T15:04:14.825871",
     "exception": false,
     "start_time": "2024-06-23T15:04:14.793748",
     "status": "completed"
    },
    "tags": []
   },
   "outputs": [],
   "source": [
    "X=df2[['temperature_celsius','wind_kph','wind_degree','pressure_mb','precip_mm','humidity','cloud','feels_like_celsius','visibility_km','uv_index','gust_kph','air_quality_us-epa-index']].values"
   ]
  },
  {
   "cell_type": "code",
   "execution_count": 15,
   "id": "4c4761c5",
   "metadata": {
    "execution": {
     "iopub.execute_input": "2024-06-23T15:04:14.867460Z",
     "iopub.status.busy": "2024-06-23T15:04:14.867051Z",
     "iopub.status.idle": "2024-06-23T15:04:14.874243Z",
     "shell.execute_reply": "2024-06-23T15:04:14.873086Z"
    },
    "papermill": {
     "duration": 0.031566,
     "end_time": "2024-06-23T15:04:14.877632",
     "exception": false,
     "start_time": "2024-06-23T15:04:14.846066",
     "status": "completed"
    },
    "tags": []
   },
   "outputs": [
    {
     "name": "stdout",
     "output_type": "stream",
     "text": [
      "[[ 20.    3.6  10.  ...   1.   12.6   1. ]\n",
      " [ 17.    6.1 150.  ...   1.   11.2   1. ]\n",
      " [ 21.    4.  310.  ...   1.   15.1   2. ]\n",
      " ...\n",
      " [ 16.9  16.6  68.  ...   1.   27.    1. ]\n",
      " [ 19.5   5.4  27.  ...   1.   11.2   2. ]\n",
      " [ 17.1  13.3  61.  ...   1.   22.2   1. ]]\n"
     ]
    }
   ],
   "source": [
    "print(X)"
   ]
  },
  {
   "cell_type": "code",
   "execution_count": 16,
   "id": "b25a14d8",
   "metadata": {
    "execution": {
     "iopub.execute_input": "2024-06-23T15:04:14.918435Z",
     "iopub.status.busy": "2024-06-23T15:04:14.918066Z",
     "iopub.status.idle": "2024-06-23T15:04:14.925837Z",
     "shell.execute_reply": "2024-06-23T15:04:14.924496Z"
    },
    "papermill": {
     "duration": 0.031644,
     "end_time": "2024-06-23T15:04:14.928686",
     "exception": false,
     "start_time": "2024-06-23T15:04:14.897042",
     "status": "completed"
    },
    "tags": []
   },
   "outputs": [
    {
     "data": {
      "text/plain": [
       "(479, 12)"
      ]
     },
     "execution_count": 16,
     "metadata": {},
     "output_type": "execute_result"
    }
   ],
   "source": [
    "X.shape"
   ]
  },
  {
   "cell_type": "code",
   "execution_count": 17,
   "id": "965f0de2",
   "metadata": {
    "execution": {
     "iopub.execute_input": "2024-06-23T15:04:14.970890Z",
     "iopub.status.busy": "2024-06-23T15:04:14.970476Z",
     "iopub.status.idle": "2024-06-23T15:04:14.976009Z",
     "shell.execute_reply": "2024-06-23T15:04:14.974834Z"
    },
    "papermill": {
     "duration": 0.03009,
     "end_time": "2024-06-23T15:04:14.978642",
     "exception": false,
     "start_time": "2024-06-23T15:04:14.948552",
     "status": "completed"
    },
    "tags": []
   },
   "outputs": [],
   "source": [
    "y1=df2['condition_text'].values"
   ]
  },
  {
   "cell_type": "code",
   "execution_count": 18,
   "id": "a776263b",
   "metadata": {
    "execution": {
     "iopub.execute_input": "2024-06-23T15:04:15.020350Z",
     "iopub.status.busy": "2024-06-23T15:04:15.019786Z",
     "iopub.status.idle": "2024-06-23T15:04:15.211096Z",
     "shell.execute_reply": "2024-06-23T15:04:15.209747Z"
    },
    "papermill": {
     "duration": 0.215641,
     "end_time": "2024-06-23T15:04:15.214175",
     "exception": false,
     "start_time": "2024-06-23T15:04:14.998534",
     "status": "completed"
    },
    "tags": []
   },
   "outputs": [],
   "source": [
    "from sklearn.preprocessing import LabelEncoder\n",
    "import warnings\n",
    "warnings.filterwarnings(\"ignore\")"
   ]
  },
  {
   "cell_type": "code",
   "execution_count": 19,
   "id": "4b68aead",
   "metadata": {
    "execution": {
     "iopub.execute_input": "2024-06-23T15:04:15.255556Z",
     "iopub.status.busy": "2024-06-23T15:04:15.255107Z",
     "iopub.status.idle": "2024-06-23T15:04:15.261367Z",
     "shell.execute_reply": "2024-06-23T15:04:15.260068Z"
    },
    "papermill": {
     "duration": 0.030681,
     "end_time": "2024-06-23T15:04:15.264523",
     "exception": false,
     "start_time": "2024-06-23T15:04:15.233842",
     "status": "completed"
    },
    "tags": []
   },
   "outputs": [],
   "source": [
    "# Initialize and fit LabelEncoder\n",
    "label_encoder = LabelEncoder()\n",
    "Y = label_encoder.fit_transform(y1)"
   ]
  },
  {
   "cell_type": "code",
   "execution_count": 20,
   "id": "600e4ced",
   "metadata": {
    "execution": {
     "iopub.execute_input": "2024-06-23T15:04:15.307197Z",
     "iopub.status.busy": "2024-06-23T15:04:15.306794Z",
     "iopub.status.idle": "2024-06-23T15:04:15.316471Z",
     "shell.execute_reply": "2024-06-23T15:04:15.315199Z"
    },
    "papermill": {
     "duration": 0.033793,
     "end_time": "2024-06-23T15:04:15.319276",
     "exception": false,
     "start_time": "2024-06-23T15:04:15.285483",
     "status": "completed"
    },
    "tags": []
   },
   "outputs": [
    {
     "data": {
      "text/plain": [
       "array([3, 0, 6, 0, 6, 6, 3, 2, 1, 1, 6, 1, 0, 1, 0, 0, 6, 2, 0, 0, 2, 0,\n",
       "       0, 0, 0, 0, 0, 4, 0, 1, 2, 7, 6, 2, 1, 7, 6, 1, 3, 2, 5, 2, 2, 0,\n",
       "       4, 0, 1, 4, 0, 0, 2, 0, 0, 0, 8, 2, 2, 2, 2, 6, 2, 6, 2, 0, 2, 6,\n",
       "       6, 6, 6, 2, 8, 3, 2, 6, 6, 3, 1, 6, 4, 5, 1, 0, 4, 4, 4, 4, 0, 2,\n",
       "       6, 0, 0, 0, 4, 1, 1, 0, 0, 0, 0, 0, 0, 4, 4, 4, 7, 7, 6, 6, 1, 8,\n",
       "       6, 3, 6, 6, 6, 7, 6, 1, 3, 4, 6, 4, 6, 0, 4, 5, 6, 6, 6, 8, 4, 4,\n",
       "       4, 7, 6, 6, 1, 6, 0, 0, 0, 0, 4, 0, 0, 6, 1, 6, 6, 6, 6, 6, 8, 6,\n",
       "       1, 0, 2, 6, 1, 2, 0, 0, 0, 0, 0, 0, 1, 6, 0, 3, 2, 7, 6, 6, 2, 4,\n",
       "       6, 6, 6, 7, 7, 6, 4, 4, 4, 4, 4, 4, 4, 4, 8, 4, 4, 4, 4, 4, 4, 4,\n",
       "       4, 4, 4, 6, 0, 0, 2, 6, 2, 2, 2, 5, 6, 0, 0, 0, 2, 7, 6, 1, 7, 6,\n",
       "       2, 6, 6, 2, 2, 7, 2, 6, 7, 2, 2, 0, 2, 2, 2, 2, 0, 4, 0, 4, 4, 2,\n",
       "       1, 6, 0, 0, 1, 6, 0, 1, 4, 6, 0, 2, 0, 6, 6, 6, 6, 6, 8, 8, 0, 8,\n",
       "       6, 0, 5, 6, 1, 2, 7, 6, 6, 1, 1, 1, 1, 1, 6, 6, 1, 6, 1, 6, 1, 0,\n",
       "       0, 0, 6, 0, 7, 7, 6, 6, 0, 5, 0, 6, 6, 0, 0, 0, 0, 6, 6, 0, 0, 0,\n",
       "       6, 8, 3, 6, 1, 1, 1, 2, 6, 3, 8, 6, 6, 2, 0, 3, 8, 3, 7, 0, 4, 7,\n",
       "       2, 6, 0, 1, 2, 2, 6, 0, 0, 0, 0, 2, 2, 2, 2, 2, 2, 2, 2, 2, 6, 0,\n",
       "       0, 6, 0, 0, 0, 6, 4, 6, 0, 4, 3, 2, 6, 6, 2, 6, 6, 6, 6, 6, 6, 0,\n",
       "       0, 6, 6, 0, 0, 0, 0, 0, 7, 3, 8, 3, 0, 0, 5, 5, 2, 1, 6, 1, 2, 7,\n",
       "       6, 6, 2, 6, 1, 2, 6, 7, 2, 0, 2, 0, 0, 2, 2, 6, 0, 6, 1, 8, 4, 6,\n",
       "       5, 6, 3, 0, 6, 0, 0, 0, 2, 0, 1, 0, 6, 1, 1, 5, 0, 0, 0, 0, 6, 6,\n",
       "       8, 0, 6, 0, 6, 1, 6, 1, 0, 6, 6, 0, 4, 4, 2, 4, 6, 1, 4, 1, 1, 1,\n",
       "       0, 1, 6, 0, 0, 1, 5, 6, 6, 1, 5, 1, 6, 2, 0, 0, 0])"
      ]
     },
     "execution_count": 20,
     "metadata": {},
     "output_type": "execute_result"
    }
   ],
   "source": [
    "Y"
   ]
  },
  {
   "cell_type": "code",
   "execution_count": 21,
   "id": "1242c944",
   "metadata": {
    "execution": {
     "iopub.execute_input": "2024-06-23T15:04:15.361685Z",
     "iopub.status.busy": "2024-06-23T15:04:15.361279Z",
     "iopub.status.idle": "2024-06-23T15:04:15.368730Z",
     "shell.execute_reply": "2024-06-23T15:04:15.367473Z"
    },
    "papermill": {
     "duration": 0.031567,
     "end_time": "2024-06-23T15:04:15.371198",
     "exception": false,
     "start_time": "2024-06-23T15:04:15.339631",
     "status": "completed"
    },
    "tags": []
   },
   "outputs": [
    {
     "data": {
      "text/plain": [
       "(479,)"
      ]
     },
     "execution_count": 21,
     "metadata": {},
     "output_type": "execute_result"
    }
   ],
   "source": [
    "Y.shape"
   ]
  },
  {
   "cell_type": "code",
   "execution_count": 22,
   "id": "8c17bbdf",
   "metadata": {
    "execution": {
     "iopub.execute_input": "2024-06-23T15:04:15.413758Z",
     "iopub.status.busy": "2024-06-23T15:04:15.412952Z",
     "iopub.status.idle": "2024-06-23T15:04:15.550532Z",
     "shell.execute_reply": "2024-06-23T15:04:15.549294Z"
    },
    "papermill": {
     "duration": 0.162395,
     "end_time": "2024-06-23T15:04:15.553705",
     "exception": false,
     "start_time": "2024-06-23T15:04:15.391310",
     "status": "completed"
    },
    "tags": []
   },
   "outputs": [],
   "source": [
    "from sklearn.model_selection import train_test_split\n",
    "from sklearn.metrics import confusion_matrix, classification_report\n",
    "from sklearn.preprocessing import StandardScaler"
   ]
  },
  {
   "cell_type": "code",
   "execution_count": 23,
   "id": "9bde0758",
   "metadata": {
    "execution": {
     "iopub.execute_input": "2024-06-23T15:04:15.672825Z",
     "iopub.status.busy": "2024-06-23T15:04:15.672194Z",
     "iopub.status.idle": "2024-06-23T15:04:15.682400Z",
     "shell.execute_reply": "2024-06-23T15:04:15.680722Z"
    },
    "papermill": {
     "duration": 0.112284,
     "end_time": "2024-06-23T15:04:15.686070",
     "exception": false,
     "start_time": "2024-06-23T15:04:15.573786",
     "status": "completed"
    },
    "tags": []
   },
   "outputs": [],
   "source": [
    "X_train, X_test, Y_train, Y_test = train_test_split(X, Y, test_size=0.25, random_state=0)"
   ]
  },
  {
   "cell_type": "code",
   "execution_count": 24,
   "id": "4cde6538",
   "metadata": {
    "execution": {
     "iopub.execute_input": "2024-06-23T15:04:15.729908Z",
     "iopub.status.busy": "2024-06-23T15:04:15.729349Z",
     "iopub.status.idle": "2024-06-23T15:04:15.736920Z",
     "shell.execute_reply": "2024-06-23T15:04:15.735696Z"
    },
    "papermill": {
     "duration": 0.033124,
     "end_time": "2024-06-23T15:04:15.739552",
     "exception": false,
     "start_time": "2024-06-23T15:04:15.706428",
     "status": "completed"
    },
    "tags": []
   },
   "outputs": [
    {
     "data": {
      "text/plain": [
       "(359, 12)"
      ]
     },
     "execution_count": 24,
     "metadata": {},
     "output_type": "execute_result"
    }
   ],
   "source": [
    "X_train.shape"
   ]
  },
  {
   "cell_type": "code",
   "execution_count": 25,
   "id": "918c14d3",
   "metadata": {
    "execution": {
     "iopub.execute_input": "2024-06-23T15:04:15.786839Z",
     "iopub.status.busy": "2024-06-23T15:04:15.786145Z",
     "iopub.status.idle": "2024-06-23T15:04:15.796453Z",
     "shell.execute_reply": "2024-06-23T15:04:15.794382Z"
    },
    "papermill": {
     "duration": 0.039533,
     "end_time": "2024-06-23T15:04:15.799833",
     "exception": false,
     "start_time": "2024-06-23T15:04:15.760300",
     "status": "completed"
    },
    "tags": []
   },
   "outputs": [
    {
     "data": {
      "text/plain": [
       "array([[ 16. ,  28.1, 160. , ...,   1. ,  33.3,   1. ],\n",
       "       [ 14. ,  15.1, 250. , ...,   1. ,   4.7,   1. ],\n",
       "       [ 24. ,  11.2,  60. , ...,   1. ,  10.8,   2. ],\n",
       "       ...,\n",
       "       [ 16. ,  33.1, 320. , ...,   1. ,  16.2,   1. ],\n",
       "       [ 18. ,  11.2,  50. , ...,   1. ,  14.8,   1. ],\n",
       "       [ 18. ,   3.6, 295. , ...,   1. ,   6.9,   1. ]])"
      ]
     },
     "execution_count": 25,
     "metadata": {},
     "output_type": "execute_result"
    }
   ],
   "source": [
    "X_test"
   ]
  },
  {
   "cell_type": "code",
   "execution_count": 26,
   "id": "dc6c5819",
   "metadata": {
    "execution": {
     "iopub.execute_input": "2024-06-23T15:04:15.858152Z",
     "iopub.status.busy": "2024-06-23T15:04:15.857560Z",
     "iopub.status.idle": "2024-06-23T15:04:15.869418Z",
     "shell.execute_reply": "2024-06-23T15:04:15.866823Z"
    },
    "papermill": {
     "duration": 0.04698,
     "end_time": "2024-06-23T15:04:15.873031",
     "exception": false,
     "start_time": "2024-06-23T15:04:15.826051",
     "status": "completed"
    },
    "tags": []
   },
   "outputs": [
    {
     "data": {
      "text/plain": [
       "(120, 12)"
      ]
     },
     "execution_count": 26,
     "metadata": {},
     "output_type": "execute_result"
    }
   ],
   "source": [
    "X_test.shape"
   ]
  },
  {
   "cell_type": "code",
   "execution_count": 27,
   "id": "124634cd",
   "metadata": {
    "execution": {
     "iopub.execute_input": "2024-06-23T15:04:15.934382Z",
     "iopub.status.busy": "2024-06-23T15:04:15.933971Z",
     "iopub.status.idle": "2024-06-23T15:04:31.411028Z",
     "shell.execute_reply": "2024-06-23T15:04:31.409229Z"
    },
    "papermill": {
     "duration": 15.510771,
     "end_time": "2024-06-23T15:04:31.414323",
     "exception": false,
     "start_time": "2024-06-23T15:04:15.903552",
     "status": "completed"
    },
    "tags": []
   },
   "outputs": [
    {
     "name": "stderr",
     "output_type": "stream",
     "text": [
      "2024-06-23 15:04:18.326711: E external/local_xla/xla/stream_executor/cuda/cuda_dnn.cc:9261] Unable to register cuDNN factory: Attempting to register factory for plugin cuDNN when one has already been registered\n",
      "2024-06-23 15:04:18.326879: E external/local_xla/xla/stream_executor/cuda/cuda_fft.cc:607] Unable to register cuFFT factory: Attempting to register factory for plugin cuFFT when one has already been registered\n",
      "2024-06-23 15:04:18.504389: E external/local_xla/xla/stream_executor/cuda/cuda_blas.cc:1515] Unable to register cuBLAS factory: Attempting to register factory for plugin cuBLAS when one has already been registered\n"
     ]
    }
   ],
   "source": [
    "from tensorflow.keras.models import Sequential\n",
    "from tensorflow.keras.layers import Dense,Dropout\n",
    "from tensorflow.keras.utils import to_categorical"
   ]
  },
  {
   "cell_type": "code",
   "execution_count": 28,
   "id": "ea2ca727",
   "metadata": {
    "execution": {
     "iopub.execute_input": "2024-06-23T15:04:31.463928Z",
     "iopub.status.busy": "2024-06-23T15:04:31.463148Z",
     "iopub.status.idle": "2024-06-23T15:04:31.470171Z",
     "shell.execute_reply": "2024-06-23T15:04:31.468746Z"
    },
    "papermill": {
     "duration": 0.0365,
     "end_time": "2024-06-23T15:04:31.473356",
     "exception": false,
     "start_time": "2024-06-23T15:04:31.436856",
     "status": "completed"
    },
    "tags": []
   },
   "outputs": [
    {
     "name": "stdout",
     "output_type": "stream",
     "text": [
      "12\n"
     ]
    }
   ],
   "source": [
    "N_features=X_train.shape[1]\n",
    "print(N_features)"
   ]
  },
  {
   "cell_type": "code",
   "execution_count": 29,
   "id": "b7cdf252",
   "metadata": {
    "execution": {
     "iopub.execute_input": "2024-06-23T15:04:31.519107Z",
     "iopub.status.busy": "2024-06-23T15:04:31.518625Z",
     "iopub.status.idle": "2024-06-23T15:04:31.728745Z",
     "shell.execute_reply": "2024-06-23T15:04:31.727523Z"
    },
    "papermill": {
     "duration": 0.237275,
     "end_time": "2024-06-23T15:04:31.732791",
     "exception": false,
     "start_time": "2024-06-23T15:04:31.495516",
     "status": "completed"
    },
    "tags": []
   },
   "outputs": [],
   "source": [
    "# Define the model\n",
    "model = Sequential()\n",
    "model.add(Dense(200, input_dim=12, activation='relu'))\n",
    "model.add(Dense(200, activation='relu'))\n",
    "model.add(Dropout(0.3))\n",
    "model.add(Dense(200, activation='relu'))\n",
    "model.add(Dropout(0.3))\n",
    "model.add(Dense(200, activation='relu'))\n",
    "model.add(Dropout(0.3))\n",
    "model.add(Dense(200, activation='relu'))\n",
    "model.add(Dropout(0.3))\n",
    "model.add(Dense(200, activation='relu'))\n",
    "model.add(Dense(9, activation='softmax'))"
   ]
  },
  {
   "cell_type": "code",
   "execution_count": 30,
   "id": "913be22a",
   "metadata": {
    "execution": {
     "iopub.execute_input": "2024-06-23T15:04:31.776710Z",
     "iopub.status.busy": "2024-06-23T15:04:31.776265Z",
     "iopub.status.idle": "2024-06-23T15:04:31.793892Z",
     "shell.execute_reply": "2024-06-23T15:04:31.792523Z"
    },
    "papermill": {
     "duration": 0.043042,
     "end_time": "2024-06-23T15:04:31.797210",
     "exception": false,
     "start_time": "2024-06-23T15:04:31.754168",
     "status": "completed"
    },
    "tags": []
   },
   "outputs": [],
   "source": [
    "# Compile the model\n",
    "model.compile(loss='sparse_categorical_crossentropy', optimizer='adam', metrics=['sparse_categorical_accuracy'])"
   ]
  },
  {
   "cell_type": "code",
   "execution_count": 31,
   "id": "b9dbe393",
   "metadata": {
    "execution": {
     "iopub.execute_input": "2024-06-23T15:04:31.841482Z",
     "iopub.status.busy": "2024-06-23T15:04:31.841046Z",
     "iopub.status.idle": "2024-06-23T15:04:40.288645Z",
     "shell.execute_reply": "2024-06-23T15:04:40.287371Z"
    },
    "papermill": {
     "duration": 8.473317,
     "end_time": "2024-06-23T15:04:40.291812",
     "exception": false,
     "start_time": "2024-06-23T15:04:31.818495",
     "status": "completed"
    },
    "tags": []
   },
   "outputs": [
    {
     "name": "stdout",
     "output_type": "stream",
     "text": [
      "Epoch 1/64\n",
      "\u001b[1m12/12\u001b[0m \u001b[32m━━━━━━━━━━━━━━━━━━━━\u001b[0m\u001b[37m\u001b[0m \u001b[1m3s\u001b[0m 5ms/step - loss: 27.6185 - sparse_categorical_accuracy: 0.1822\n",
      "Epoch 2/64\n",
      "\u001b[1m12/12\u001b[0m \u001b[32m━━━━━━━━━━━━━━━━━━━━\u001b[0m\u001b[37m\u001b[0m \u001b[1m0s\u001b[0m 5ms/step - loss: 7.4372 - sparse_categorical_accuracy: 0.1869  \n",
      "Epoch 3/64\n",
      "\u001b[1m12/12\u001b[0m \u001b[32m━━━━━━━━━━━━━━━━━━━━\u001b[0m\u001b[37m\u001b[0m \u001b[1m0s\u001b[0m 5ms/step - loss: 3.7544 - sparse_categorical_accuracy: 0.2118 \n",
      "Epoch 4/64\n",
      "\u001b[1m12/12\u001b[0m \u001b[32m━━━━━━━━━━━━━━━━━━━━\u001b[0m\u001b[37m\u001b[0m \u001b[1m0s\u001b[0m 5ms/step - loss: 2.4747 - sparse_categorical_accuracy: 0.2009\n",
      "Epoch 5/64\n",
      "\u001b[1m12/12\u001b[0m \u001b[32m━━━━━━━━━━━━━━━━━━━━\u001b[0m\u001b[37m\u001b[0m \u001b[1m0s\u001b[0m 4ms/step - loss: 2.2413 - sparse_categorical_accuracy: 0.2349 \n",
      "Epoch 6/64\n",
      "\u001b[1m12/12\u001b[0m \u001b[32m━━━━━━━━━━━━━━━━━━━━\u001b[0m\u001b[37m\u001b[0m \u001b[1m0s\u001b[0m 4ms/step - loss: 2.0492 - sparse_categorical_accuracy: 0.2244 \n",
      "Epoch 7/64\n",
      "\u001b[1m12/12\u001b[0m \u001b[32m━━━━━━━━━━━━━━━━━━━━\u001b[0m\u001b[37m\u001b[0m \u001b[1m0s\u001b[0m 4ms/step - loss: 2.0602 - sparse_categorical_accuracy: 0.2458 \n",
      "Epoch 8/64\n",
      "\u001b[1m12/12\u001b[0m \u001b[32m━━━━━━━━━━━━━━━━━━━━\u001b[0m\u001b[37m\u001b[0m \u001b[1m0s\u001b[0m 4ms/step - loss: 2.0804 - sparse_categorical_accuracy: 0.2202 \n",
      "Epoch 9/64\n",
      "\u001b[1m12/12\u001b[0m \u001b[32m━━━━━━━━━━━━━━━━━━━━\u001b[0m\u001b[37m\u001b[0m \u001b[1m0s\u001b[0m 5ms/step - loss: 1.9519 - sparse_categorical_accuracy: 0.2912 \n",
      "Epoch 10/64\n",
      "\u001b[1m12/12\u001b[0m \u001b[32m━━━━━━━━━━━━━━━━━━━━\u001b[0m\u001b[37m\u001b[0m \u001b[1m0s\u001b[0m 4ms/step - loss: 1.9707 - sparse_categorical_accuracy: 0.2379 \n",
      "Epoch 11/64\n",
      "\u001b[1m12/12\u001b[0m \u001b[32m━━━━━━━━━━━━━━━━━━━━\u001b[0m\u001b[37m\u001b[0m \u001b[1m0s\u001b[0m 5ms/step - loss: 1.9148 - sparse_categorical_accuracy: 0.2609\n",
      "Epoch 12/64\n",
      "\u001b[1m12/12\u001b[0m \u001b[32m━━━━━━━━━━━━━━━━━━━━\u001b[0m\u001b[37m\u001b[0m \u001b[1m0s\u001b[0m 4ms/step - loss: 1.8476 - sparse_categorical_accuracy: 0.3021 \n",
      "Epoch 13/64\n",
      "\u001b[1m12/12\u001b[0m \u001b[32m━━━━━━━━━━━━━━━━━━━━\u001b[0m\u001b[37m\u001b[0m \u001b[1m0s\u001b[0m 5ms/step - loss: 1.9053 - sparse_categorical_accuracy: 0.2894\n",
      "Epoch 14/64\n",
      "\u001b[1m12/12\u001b[0m \u001b[32m━━━━━━━━━━━━━━━━━━━━\u001b[0m\u001b[37m\u001b[0m \u001b[1m0s\u001b[0m 6ms/step - loss: 1.8515 - sparse_categorical_accuracy: 0.3153\n",
      "Epoch 15/64\n",
      "\u001b[1m12/12\u001b[0m \u001b[32m━━━━━━━━━━━━━━━━━━━━\u001b[0m\u001b[37m\u001b[0m \u001b[1m0s\u001b[0m 8ms/step - loss: 1.8370 - sparse_categorical_accuracy: 0.3241\n",
      "Epoch 16/64\n",
      "\u001b[1m12/12\u001b[0m \u001b[32m━━━━━━━━━━━━━━━━━━━━\u001b[0m\u001b[37m\u001b[0m \u001b[1m0s\u001b[0m 5ms/step - loss: 1.8456 - sparse_categorical_accuracy: 0.3115\n",
      "Epoch 17/64\n",
      "\u001b[1m12/12\u001b[0m \u001b[32m━━━━━━━━━━━━━━━━━━━━\u001b[0m\u001b[37m\u001b[0m \u001b[1m0s\u001b[0m 6ms/step - loss: 1.7925 - sparse_categorical_accuracy: 0.3132\n",
      "Epoch 18/64\n",
      "\u001b[1m12/12\u001b[0m \u001b[32m━━━━━━━━━━━━━━━━━━━━\u001b[0m\u001b[37m\u001b[0m \u001b[1m0s\u001b[0m 4ms/step - loss: 1.7725 - sparse_categorical_accuracy: 0.3525 \n",
      "Epoch 19/64\n",
      "\u001b[1m12/12\u001b[0m \u001b[32m━━━━━━━━━━━━━━━━━━━━\u001b[0m\u001b[37m\u001b[0m \u001b[1m0s\u001b[0m 6ms/step - loss: 1.7850 - sparse_categorical_accuracy: 0.3864\n",
      "Epoch 20/64\n",
      "\u001b[1m12/12\u001b[0m \u001b[32m━━━━━━━━━━━━━━━━━━━━\u001b[0m\u001b[37m\u001b[0m \u001b[1m0s\u001b[0m 7ms/step - loss: 1.6608 - sparse_categorical_accuracy: 0.4225\n",
      "Epoch 21/64\n",
      "\u001b[1m12/12\u001b[0m \u001b[32m━━━━━━━━━━━━━━━━━━━━\u001b[0m\u001b[37m\u001b[0m \u001b[1m0s\u001b[0m 5ms/step - loss: 1.7080 - sparse_categorical_accuracy: 0.3648 \n",
      "Epoch 22/64\n",
      "\u001b[1m12/12\u001b[0m \u001b[32m━━━━━━━━━━━━━━━━━━━━\u001b[0m\u001b[37m\u001b[0m \u001b[1m0s\u001b[0m 5ms/step - loss: 1.7029 - sparse_categorical_accuracy: 0.3963 \n",
      "Epoch 23/64\n",
      "\u001b[1m12/12\u001b[0m \u001b[32m━━━━━━━━━━━━━━━━━━━━\u001b[0m\u001b[37m\u001b[0m \u001b[1m0s\u001b[0m 5ms/step - loss: 1.6475 - sparse_categorical_accuracy: 0.3941\n",
      "Epoch 24/64\n",
      "\u001b[1m12/12\u001b[0m \u001b[32m━━━━━━━━━━━━━━━━━━━━\u001b[0m\u001b[37m\u001b[0m \u001b[1m0s\u001b[0m 5ms/step - loss: 1.6008 - sparse_categorical_accuracy: 0.4431\n",
      "Epoch 25/64\n",
      "\u001b[1m12/12\u001b[0m \u001b[32m━━━━━━━━━━━━━━━━━━━━\u001b[0m\u001b[37m\u001b[0m \u001b[1m0s\u001b[0m 5ms/step - loss: 1.6071 - sparse_categorical_accuracy: 0.4096\n",
      "Epoch 26/64\n",
      "\u001b[1m12/12\u001b[0m \u001b[32m━━━━━━━━━━━━━━━━━━━━\u001b[0m\u001b[37m\u001b[0m \u001b[1m0s\u001b[0m 5ms/step - loss: 1.5662 - sparse_categorical_accuracy: 0.4190\n",
      "Epoch 27/64\n",
      "\u001b[1m12/12\u001b[0m \u001b[32m━━━━━━━━━━━━━━━━━━━━\u001b[0m\u001b[37m\u001b[0m \u001b[1m0s\u001b[0m 5ms/step - loss: 1.7327 - sparse_categorical_accuracy: 0.4469 \n",
      "Epoch 28/64\n",
      "\u001b[1m12/12\u001b[0m \u001b[32m━━━━━━━━━━━━━━━━━━━━\u001b[0m\u001b[37m\u001b[0m \u001b[1m0s\u001b[0m 5ms/step - loss: 1.7708 - sparse_categorical_accuracy: 0.3883\n",
      "Epoch 29/64\n",
      "\u001b[1m12/12\u001b[0m \u001b[32m━━━━━━━━━━━━━━━━━━━━\u001b[0m\u001b[37m\u001b[0m \u001b[1m0s\u001b[0m 5ms/step - loss: 1.8327 - sparse_categorical_accuracy: 0.3576\n",
      "Epoch 30/64\n",
      "\u001b[1m12/12\u001b[0m \u001b[32m━━━━━━━━━━━━━━━━━━━━\u001b[0m\u001b[37m\u001b[0m \u001b[1m0s\u001b[0m 5ms/step - loss: 1.7211 - sparse_categorical_accuracy: 0.3836\n",
      "Epoch 31/64\n",
      "\u001b[1m12/12\u001b[0m \u001b[32m━━━━━━━━━━━━━━━━━━━━\u001b[0m\u001b[37m\u001b[0m \u001b[1m0s\u001b[0m 5ms/step - loss: 1.7524 - sparse_categorical_accuracy: 0.3627 \n",
      "Epoch 32/64\n",
      "\u001b[1m12/12\u001b[0m \u001b[32m━━━━━━━━━━━━━━━━━━━━\u001b[0m\u001b[37m\u001b[0m \u001b[1m0s\u001b[0m 4ms/step - loss: 1.7021 - sparse_categorical_accuracy: 0.3789 \n",
      "Epoch 33/64\n",
      "\u001b[1m12/12\u001b[0m \u001b[32m━━━━━━━━━━━━━━━━━━━━\u001b[0m\u001b[37m\u001b[0m \u001b[1m0s\u001b[0m 4ms/step - loss: 1.6192 - sparse_categorical_accuracy: 0.4220 \n",
      "Epoch 34/64\n",
      "\u001b[1m12/12\u001b[0m \u001b[32m━━━━━━━━━━━━━━━━━━━━\u001b[0m\u001b[37m\u001b[0m \u001b[1m0s\u001b[0m 5ms/step - loss: 1.5742 - sparse_categorical_accuracy: 0.4592 \n",
      "Epoch 35/64\n",
      "\u001b[1m12/12\u001b[0m \u001b[32m━━━━━━━━━━━━━━━━━━━━\u001b[0m\u001b[37m\u001b[0m \u001b[1m0s\u001b[0m 4ms/step - loss: 1.5501 - sparse_categorical_accuracy: 0.4359 \n",
      "Epoch 36/64\n",
      "\u001b[1m12/12\u001b[0m \u001b[32m━━━━━━━━━━━━━━━━━━━━\u001b[0m\u001b[37m\u001b[0m \u001b[1m0s\u001b[0m 5ms/step - loss: 1.6173 - sparse_categorical_accuracy: 0.4192 \n",
      "Epoch 37/64\n",
      "\u001b[1m12/12\u001b[0m \u001b[32m━━━━━━━━━━━━━━━━━━━━\u001b[0m\u001b[37m\u001b[0m \u001b[1m0s\u001b[0m 4ms/step - loss: 1.5824 - sparse_categorical_accuracy: 0.4259 \n",
      "Epoch 38/64\n",
      "\u001b[1m12/12\u001b[0m \u001b[32m━━━━━━━━━━━━━━━━━━━━\u001b[0m\u001b[37m\u001b[0m \u001b[1m0s\u001b[0m 4ms/step - loss: 1.5417 - sparse_categorical_accuracy: 0.4559 \n",
      "Epoch 39/64\n",
      "\u001b[1m12/12\u001b[0m \u001b[32m━━━━━━━━━━━━━━━━━━━━\u001b[0m\u001b[37m\u001b[0m \u001b[1m0s\u001b[0m 4ms/step - loss: 1.5644 - sparse_categorical_accuracy: 0.4370 \n",
      "Epoch 40/64\n",
      "\u001b[1m12/12\u001b[0m \u001b[32m━━━━━━━━━━━━━━━━━━━━\u001b[0m\u001b[37m\u001b[0m \u001b[1m0s\u001b[0m 5ms/step - loss: 1.5309 - sparse_categorical_accuracy: 0.4507 \n",
      "Epoch 41/64\n",
      "\u001b[1m12/12\u001b[0m \u001b[32m━━━━━━━━━━━━━━━━━━━━\u001b[0m\u001b[37m\u001b[0m \u001b[1m0s\u001b[0m 5ms/step - loss: 1.5183 - sparse_categorical_accuracy: 0.4802 \n",
      "Epoch 42/64\n",
      "\u001b[1m12/12\u001b[0m \u001b[32m━━━━━━━━━━━━━━━━━━━━\u001b[0m\u001b[37m\u001b[0m \u001b[1m0s\u001b[0m 5ms/step - loss: 1.6173 - sparse_categorical_accuracy: 0.4077 \n",
      "Epoch 43/64\n",
      "\u001b[1m12/12\u001b[0m \u001b[32m━━━━━━━━━━━━━━━━━━━━\u001b[0m\u001b[37m\u001b[0m \u001b[1m0s\u001b[0m 4ms/step - loss: 1.6222 - sparse_categorical_accuracy: 0.4033 \n",
      "Epoch 44/64\n",
      "\u001b[1m12/12\u001b[0m \u001b[32m━━━━━━━━━━━━━━━━━━━━\u001b[0m\u001b[37m\u001b[0m \u001b[1m0s\u001b[0m 4ms/step - loss: 1.6334 - sparse_categorical_accuracy: 0.4241 \n",
      "Epoch 45/64\n",
      "\u001b[1m12/12\u001b[0m \u001b[32m━━━━━━━━━━━━━━━━━━━━\u001b[0m\u001b[37m\u001b[0m \u001b[1m0s\u001b[0m 4ms/step - loss: 1.6666 - sparse_categorical_accuracy: 0.3931 \n",
      "Epoch 46/64\n",
      "\u001b[1m12/12\u001b[0m \u001b[32m━━━━━━━━━━━━━━━━━━━━\u001b[0m\u001b[37m\u001b[0m \u001b[1m0s\u001b[0m 4ms/step - loss: 1.7467 - sparse_categorical_accuracy: 0.3499 \n",
      "Epoch 47/64\n",
      "\u001b[1m12/12\u001b[0m \u001b[32m━━━━━━━━━━━━━━━━━━━━\u001b[0m\u001b[37m\u001b[0m \u001b[1m0s\u001b[0m 4ms/step - loss: 1.6464 - sparse_categorical_accuracy: 0.4051 \n",
      "Epoch 48/64\n",
      "\u001b[1m12/12\u001b[0m \u001b[32m━━━━━━━━━━━━━━━━━━━━\u001b[0m\u001b[37m\u001b[0m \u001b[1m0s\u001b[0m 4ms/step - loss: 1.5606 - sparse_categorical_accuracy: 0.4556 \n",
      "Epoch 49/64\n",
      "\u001b[1m12/12\u001b[0m \u001b[32m━━━━━━━━━━━━━━━━━━━━\u001b[0m\u001b[37m\u001b[0m \u001b[1m0s\u001b[0m 4ms/step - loss: 1.5282 - sparse_categorical_accuracy: 0.4698 \n",
      "Epoch 50/64\n",
      "\u001b[1m12/12\u001b[0m \u001b[32m━━━━━━━━━━━━━━━━━━━━\u001b[0m\u001b[37m\u001b[0m \u001b[1m0s\u001b[0m 4ms/step - loss: 1.6349 - sparse_categorical_accuracy: 0.3888 \n",
      "Epoch 51/64\n",
      "\u001b[1m12/12\u001b[0m \u001b[32m━━━━━━━━━━━━━━━━━━━━\u001b[0m\u001b[37m\u001b[0m \u001b[1m0s\u001b[0m 4ms/step - loss: 1.5221 - sparse_categorical_accuracy: 0.4501 \n",
      "Epoch 52/64\n",
      "\u001b[1m12/12\u001b[0m \u001b[32m━━━━━━━━━━━━━━━━━━━━\u001b[0m\u001b[37m\u001b[0m \u001b[1m0s\u001b[0m 5ms/step - loss: 1.5854 - sparse_categorical_accuracy: 0.4439 \n",
      "Epoch 53/64\n",
      "\u001b[1m12/12\u001b[0m \u001b[32m━━━━━━━━━━━━━━━━━━━━\u001b[0m\u001b[37m\u001b[0m \u001b[1m0s\u001b[0m 4ms/step - loss: 1.6294 - sparse_categorical_accuracy: 0.4194 \n",
      "Epoch 54/64\n",
      "\u001b[1m12/12\u001b[0m \u001b[32m━━━━━━━━━━━━━━━━━━━━\u001b[0m\u001b[37m\u001b[0m \u001b[1m0s\u001b[0m 5ms/step - loss: 1.7015 - sparse_categorical_accuracy: 0.3570\n",
      "Epoch 55/64\n",
      "\u001b[1m12/12\u001b[0m \u001b[32m━━━━━━━━━━━━━━━━━━━━\u001b[0m\u001b[37m\u001b[0m \u001b[1m0s\u001b[0m 5ms/step - loss: 1.6057 - sparse_categorical_accuracy: 0.4253 \n",
      "Epoch 56/64\n",
      "\u001b[1m12/12\u001b[0m \u001b[32m━━━━━━━━━━━━━━━━━━━━\u001b[0m\u001b[37m\u001b[0m \u001b[1m0s\u001b[0m 4ms/step - loss: 1.6260 - sparse_categorical_accuracy: 0.4114 \n",
      "Epoch 57/64\n",
      "\u001b[1m12/12\u001b[0m \u001b[32m━━━━━━━━━━━━━━━━━━━━\u001b[0m\u001b[37m\u001b[0m \u001b[1m0s\u001b[0m 4ms/step - loss: 1.6907 - sparse_categorical_accuracy: 0.3808 \n",
      "Epoch 58/64\n",
      "\u001b[1m12/12\u001b[0m \u001b[32m━━━━━━━━━━━━━━━━━━━━\u001b[0m\u001b[37m\u001b[0m \u001b[1m0s\u001b[0m 4ms/step - loss: 1.5681 - sparse_categorical_accuracy: 0.4404 \n",
      "Epoch 59/64\n",
      "\u001b[1m12/12\u001b[0m \u001b[32m━━━━━━━━━━━━━━━━━━━━\u001b[0m\u001b[37m\u001b[0m \u001b[1m0s\u001b[0m 4ms/step - loss: 1.5391 - sparse_categorical_accuracy: 0.4540 \n",
      "Epoch 60/64\n",
      "\u001b[1m12/12\u001b[0m \u001b[32m━━━━━━━━━━━━━━━━━━━━\u001b[0m\u001b[37m\u001b[0m \u001b[1m0s\u001b[0m 4ms/step - loss: 1.5887 - sparse_categorical_accuracy: 0.4351 \n",
      "Epoch 61/64\n",
      "\u001b[1m12/12\u001b[0m \u001b[32m━━━━━━━━━━━━━━━━━━━━\u001b[0m\u001b[37m\u001b[0m \u001b[1m0s\u001b[0m 4ms/step - loss: 1.5883 - sparse_categorical_accuracy: 0.4161 \n",
      "Epoch 62/64\n",
      "\u001b[1m12/12\u001b[0m \u001b[32m━━━━━━━━━━━━━━━━━━━━\u001b[0m\u001b[37m\u001b[0m \u001b[1m0s\u001b[0m 4ms/step - loss: 1.6562 - sparse_categorical_accuracy: 0.4063 \n",
      "Epoch 63/64\n",
      "\u001b[1m12/12\u001b[0m \u001b[32m━━━━━━━━━━━━━━━━━━━━\u001b[0m\u001b[37m\u001b[0m \u001b[1m0s\u001b[0m 5ms/step - loss: 1.6869 - sparse_categorical_accuracy: 0.3782 \n",
      "Epoch 64/64\n",
      "\u001b[1m12/12\u001b[0m \u001b[32m━━━━━━━━━━━━━━━━━━━━\u001b[0m\u001b[37m\u001b[0m \u001b[1m0s\u001b[0m 4ms/step - loss: 1.6557 - sparse_categorical_accuracy: 0.4185 \n"
     ]
    },
    {
     "data": {
      "text/plain": [
       "<keras.src.callbacks.history.History at 0x7e1b646bf970>"
      ]
     },
     "execution_count": 31,
     "metadata": {},
     "output_type": "execute_result"
    }
   ],
   "source": [
    "model.fit(X_train,Y_train,epochs=64)"
   ]
  },
  {
   "cell_type": "code",
   "execution_count": 32,
   "id": "c1b37dbd",
   "metadata": {
    "execution": {
     "iopub.execute_input": "2024-06-23T15:04:40.378569Z",
     "iopub.status.busy": "2024-06-23T15:04:40.378185Z",
     "iopub.status.idle": "2024-06-23T15:04:40.629522Z",
     "shell.execute_reply": "2024-06-23T15:04:40.628465Z"
    },
    "papermill": {
     "duration": 0.297376,
     "end_time": "2024-06-23T15:04:40.632408",
     "exception": false,
     "start_time": "2024-06-23T15:04:40.335032",
     "status": "completed"
    },
    "tags": []
   },
   "outputs": [
    {
     "name": "stdout",
     "output_type": "stream",
     "text": [
      "\u001b[1m4/4\u001b[0m \u001b[32m━━━━━━━━━━━━━━━━━━━━\u001b[0m\u001b[37m\u001b[0m \u001b[1m0s\u001b[0m 26ms/step\n"
     ]
    }
   ],
   "source": [
    "prediction= model.predict(X_test)"
   ]
  },
  {
   "cell_type": "code",
   "execution_count": 33,
   "id": "1e393637",
   "metadata": {
    "execution": {
     "iopub.execute_input": "2024-06-23T15:04:40.717460Z",
     "iopub.status.busy": "2024-06-23T15:04:40.717032Z",
     "iopub.status.idle": "2024-06-23T15:04:40.722844Z",
     "shell.execute_reply": "2024-06-23T15:04:40.721631Z"
    },
    "papermill": {
     "duration": 0.051487,
     "end_time": "2024-06-23T15:04:40.725316",
     "exception": false,
     "start_time": "2024-06-23T15:04:40.673829",
     "status": "completed"
    },
    "tags": []
   },
   "outputs": [],
   "source": [
    "Y_pred = np.argmax(prediction, axis=1)"
   ]
  },
  {
   "cell_type": "code",
   "execution_count": 34,
   "id": "e8ac2e29",
   "metadata": {
    "execution": {
     "iopub.execute_input": "2024-06-23T15:04:40.811250Z",
     "iopub.status.busy": "2024-06-23T15:04:40.810855Z",
     "iopub.status.idle": "2024-06-23T15:04:40.818894Z",
     "shell.execute_reply": "2024-06-23T15:04:40.817714Z"
    },
    "papermill": {
     "duration": 0.054522,
     "end_time": "2024-06-23T15:04:40.821429",
     "exception": false,
     "start_time": "2024-06-23T15:04:40.766907",
     "status": "completed"
    },
    "tags": []
   },
   "outputs": [
    {
     "data": {
      "text/plain": [
       "array([0, 6, 0, 6, 6, 6, 0, 6, 6, 0, 6, 6, 6, 0, 6, 6, 0, 0, 6, 0, 6, 0,\n",
       "       0, 6, 6, 6, 6, 6, 0, 6, 6, 0, 0, 6, 0, 6, 6, 0, 6, 6, 0, 6, 6, 0,\n",
       "       6, 0, 6, 6, 6, 6, 6, 0, 6, 0, 0, 0, 0, 0, 0, 6, 6, 6, 6, 0, 6, 6,\n",
       "       0, 6, 0, 0, 0, 6, 6, 0, 6, 0, 6, 6, 0, 6, 0, 0, 6, 6, 0, 0, 0, 6,\n",
       "       6, 6, 6, 6, 6, 6, 6, 6, 0, 6, 0, 6, 0, 0, 6, 6, 0, 0, 0, 0, 6, 6,\n",
       "       0, 6, 6, 6, 6, 0, 0, 0, 6, 6])"
      ]
     },
     "execution_count": 34,
     "metadata": {},
     "output_type": "execute_result"
    }
   ],
   "source": [
    "Y_pred"
   ]
  },
  {
   "cell_type": "code",
   "execution_count": 35,
   "id": "18fd9c50",
   "metadata": {
    "execution": {
     "iopub.execute_input": "2024-06-23T15:04:40.912109Z",
     "iopub.status.busy": "2024-06-23T15:04:40.911702Z",
     "iopub.status.idle": "2024-06-23T15:04:40.917303Z",
     "shell.execute_reply": "2024-06-23T15:04:40.916013Z"
    },
    "papermill": {
     "duration": 0.051111,
     "end_time": "2024-06-23T15:04:40.920030",
     "exception": false,
     "start_time": "2024-06-23T15:04:40.868919",
     "status": "completed"
    },
    "tags": []
   },
   "outputs": [],
   "source": [
    "Y_test_class= np.argmax(prediction, axis=1)"
   ]
  },
  {
   "cell_type": "code",
   "execution_count": 36,
   "id": "fc8f7e29",
   "metadata": {
    "execution": {
     "iopub.execute_input": "2024-06-23T15:04:41.005024Z",
     "iopub.status.busy": "2024-06-23T15:04:41.004525Z",
     "iopub.status.idle": "2024-06-23T15:04:41.012627Z",
     "shell.execute_reply": "2024-06-23T15:04:41.011529Z"
    },
    "papermill": {
     "duration": 0.054104,
     "end_time": "2024-06-23T15:04:41.015429",
     "exception": false,
     "start_time": "2024-06-23T15:04:40.961325",
     "status": "completed"
    },
    "tags": []
   },
   "outputs": [
    {
     "data": {
      "text/plain": [
       "array([0, 6, 0, 6, 6, 6, 0, 6, 6, 0, 6, 6, 6, 0, 6, 6, 0, 0, 6, 0, 6, 0,\n",
       "       0, 6, 6, 6, 6, 6, 0, 6, 6, 0, 0, 6, 0, 6, 6, 0, 6, 6, 0, 6, 6, 0,\n",
       "       6, 0, 6, 6, 6, 6, 6, 0, 6, 0, 0, 0, 0, 0, 0, 6, 6, 6, 6, 0, 6, 6,\n",
       "       0, 6, 0, 0, 0, 6, 6, 0, 6, 0, 6, 6, 0, 6, 0, 0, 6, 6, 0, 0, 0, 6,\n",
       "       6, 6, 6, 6, 6, 6, 6, 6, 0, 6, 0, 6, 0, 0, 6, 6, 0, 0, 0, 0, 6, 6,\n",
       "       0, 6, 6, 6, 6, 0, 0, 0, 6, 6])"
      ]
     },
     "execution_count": 36,
     "metadata": {},
     "output_type": "execute_result"
    }
   ],
   "source": [
    "Y_test_class"
   ]
  },
  {
   "cell_type": "code",
   "execution_count": 37,
   "id": "8cab2c88",
   "metadata": {
    "execution": {
     "iopub.execute_input": "2024-06-23T15:04:41.100372Z",
     "iopub.status.busy": "2024-06-23T15:04:41.099966Z",
     "iopub.status.idle": "2024-06-23T15:04:41.105231Z",
     "shell.execute_reply": "2024-06-23T15:04:41.103994Z"
    },
    "papermill": {
     "duration": 0.050734,
     "end_time": "2024-06-23T15:04:41.107624",
     "exception": false,
     "start_time": "2024-06-23T15:04:41.056890",
     "status": "completed"
    },
    "tags": []
   },
   "outputs": [],
   "source": [
    "import tensorflow as tf"
   ]
  },
  {
   "cell_type": "code",
   "execution_count": 38,
   "id": "50c14223",
   "metadata": {
    "execution": {
     "iopub.execute_input": "2024-06-23T15:04:41.192856Z",
     "iopub.status.busy": "2024-06-23T15:04:41.192400Z",
     "iopub.status.idle": "2024-06-23T15:04:41.209190Z",
     "shell.execute_reply": "2024-06-23T15:04:41.207955Z"
    },
    "papermill": {
     "duration": 0.062951,
     "end_time": "2024-06-23T15:04:41.212069",
     "exception": false,
     "start_time": "2024-06-23T15:04:41.149118",
     "status": "completed"
    },
    "tags": []
   },
   "outputs": [
    {
     "data": {
      "text/plain": [
       "<tf.Tensor: shape=(), dtype=float32, numpy=0.41666666>"
      ]
     },
     "execution_count": 38,
     "metadata": {},
     "output_type": "execute_result"
    }
   ],
   "source": [
    "tf.keras.metrics.binary_accuracy(Y_test_class,Y_pred)"
   ]
  },
  {
   "cell_type": "code",
   "execution_count": 39,
   "id": "810a7fcf",
   "metadata": {
    "execution": {
     "iopub.execute_input": "2024-06-23T15:04:41.297679Z",
     "iopub.status.busy": "2024-06-23T15:04:41.297276Z",
     "iopub.status.idle": "2024-06-23T15:04:41.316459Z",
     "shell.execute_reply": "2024-06-23T15:04:41.315183Z"
    },
    "papermill": {
     "duration": 0.066055,
     "end_time": "2024-06-23T15:04:41.319743",
     "exception": false,
     "start_time": "2024-06-23T15:04:41.253688",
     "status": "completed"
    },
    "tags": []
   },
   "outputs": [
    {
     "name": "stdout",
     "output_type": "stream",
     "text": [
      "              precision    recall  f1-score   support\n",
      "\n",
      "           0       1.00      1.00      1.00        50\n",
      "           6       1.00      1.00      1.00        70\n",
      "\n",
      "    accuracy                           1.00       120\n",
      "   macro avg       1.00      1.00      1.00       120\n",
      "weighted avg       1.00      1.00      1.00       120\n",
      "\n",
      "[[50  0]\n",
      " [ 0 70]]\n"
     ]
    }
   ],
   "source": [
    "from sklearn.metrics import classification_report,confusion_matrix\n",
    "print(classification_report(Y_test_class,Y_pred))\n",
    "print(confusion_matrix(Y_test_class,Y_pred))"
   ]
  },
  {
   "cell_type": "code",
   "execution_count": 40,
   "id": "fba90f07",
   "metadata": {
    "execution": {
     "iopub.execute_input": "2024-06-23T15:04:41.407756Z",
     "iopub.status.busy": "2024-06-23T15:04:41.407262Z",
     "iopub.status.idle": "2024-06-23T15:04:41.647117Z",
     "shell.execute_reply": "2024-06-23T15:04:41.645750Z"
    },
    "papermill": {
     "duration": 0.286388,
     "end_time": "2024-06-23T15:04:41.650092",
     "exception": false,
     "start_time": "2024-06-23T15:04:41.363704",
     "status": "completed"
    },
    "tags": []
   },
   "outputs": [
    {
     "data": {
      "image/png": "[encoded data removed]",
      "text/plain": [
       "<Figure size 640x480 with 2 Axes>"
      ]
     },
     "metadata": {},
     "output_type": "display_data"
    }
   ],
   "source": [
    "sns.heatmap(confusion_matrix(Y_test_class,Y_pred),annot=True,cmap='Blues',cbar_kws={\"label\":\"Color bar\"})\n",
    "plt.show()"
   ]
  },
  {
   "cell_type": "code",
   "execution_count": 41,
   "id": "aa4e95d5",
   "metadata": {
    "execution": {
     "iopub.execute_input": "2024-06-23T15:04:41.736614Z",
     "iopub.status.busy": "2024-06-23T15:04:41.736195Z",
     "iopub.status.idle": "2024-06-23T15:04:41.766752Z",
     "shell.execute_reply": "2024-06-23T15:04:41.765451Z"
    },
    "papermill": {
     "duration": 0.077454,
     "end_time": "2024-06-23T15:04:41.769625",
     "exception": false,
     "start_time": "2024-06-23T15:04:41.692171",
     "status": "completed"
    },
    "tags": []
   },
   "outputs": [
    {
     "data": {
      "text/html": [
       "<div>\n",
       "<style scoped>\n",
       "    .dataframe tbody tr th:only-of-type {\n",
       "        vertical-align: middle;\n",
       "    }\n",
       "\n",
       "    .dataframe tbody tr th {\n",
       "        vertical-align: top;\n",
       "    }\n",
       "\n",
       "    .dataframe thead th {\n",
       "        text-align: right;\n",
       "    }\n",
       "</style>\n",
       "<table border=\"1\" class=\"dataframe\">\n",
       "  <thead>\n",
       "    <tr style=\"text-align: right;\">\n",
       "      <th></th>\n",
       "      <th>temperature_celsius</th>\n",
       "      <th>wind_kph</th>\n",
       "      <th>wind_degree</th>\n",
       "      <th>pressure_mb</th>\n",
       "      <th>precip_mm</th>\n",
       "      <th>humidity</th>\n",
       "      <th>cloud</th>\n",
       "      <th>feels_like_celsius</th>\n",
       "      <th>visibility_km</th>\n",
       "      <th>uv_index</th>\n",
       "      <th>gust_kph</th>\n",
       "      <th>air_quality_us-epa-index</th>\n",
       "    </tr>\n",
       "    <tr>\n",
       "      <th>day_id</th>\n",
       "      <th></th>\n",
       "      <th></th>\n",
       "      <th></th>\n",
       "      <th></th>\n",
       "      <th></th>\n",
       "      <th></th>\n",
       "      <th></th>\n",
       "      <th></th>\n",
       "      <th></th>\n",
       "      <th></th>\n",
       "      <th></th>\n",
       "      <th></th>\n",
       "    </tr>\n",
       "  </thead>\n",
       "  <tbody>\n",
       "    <tr>\n",
       "      <th>D0001</th>\n",
       "      <td>27.0</td>\n",
       "      <td>6.1</td>\n",
       "      <td>210</td>\n",
       "      <td>1006.0</td>\n",
       "      <td>0.0</td>\n",
       "      <td>54</td>\n",
       "      <td>75</td>\n",
       "      <td>28.0</td>\n",
       "      <td>10.0</td>\n",
       "      <td>6.0</td>\n",
       "      <td>11.9</td>\n",
       "      <td>2</td>\n",
       "    </tr>\n",
       "    <tr>\n",
       "      <th>D0002</th>\n",
       "      <td>22.0</td>\n",
       "      <td>6.1</td>\n",
       "      <td>170</td>\n",
       "      <td>1006.0</td>\n",
       "      <td>0.0</td>\n",
       "      <td>73</td>\n",
       "      <td>75</td>\n",
       "      <td>24.5</td>\n",
       "      <td>10.0</td>\n",
       "      <td>1.0</td>\n",
       "      <td>23.4</td>\n",
       "      <td>1</td>\n",
       "    </tr>\n",
       "    <tr>\n",
       "      <th>D0003</th>\n",
       "      <td>20.0</td>\n",
       "      <td>3.6</td>\n",
       "      <td>10</td>\n",
       "      <td>1011.0</td>\n",
       "      <td>4.5</td>\n",
       "      <td>100</td>\n",
       "      <td>75</td>\n",
       "      <td>20.0</td>\n",
       "      <td>10.0</td>\n",
       "      <td>1.0</td>\n",
       "      <td>12.6</td>\n",
       "      <td>1</td>\n",
       "    </tr>\n",
       "    <tr>\n",
       "      <th>D0004</th>\n",
       "      <td>17.0</td>\n",
       "      <td>6.1</td>\n",
       "      <td>150</td>\n",
       "      <td>1018.0</td>\n",
       "      <td>0.0</td>\n",
       "      <td>88</td>\n",
       "      <td>0</td>\n",
       "      <td>17.0</td>\n",
       "      <td>10.0</td>\n",
       "      <td>1.0</td>\n",
       "      <td>11.2</td>\n",
       "      <td>1</td>\n",
       "    </tr>\n",
       "    <tr>\n",
       "      <th>D0005</th>\n",
       "      <td>18.0</td>\n",
       "      <td>3.6</td>\n",
       "      <td>92</td>\n",
       "      <td>1019.0</td>\n",
       "      <td>0.0</td>\n",
       "      <td>94</td>\n",
       "      <td>0</td>\n",
       "      <td>18.0</td>\n",
       "      <td>10.0</td>\n",
       "      <td>1.0</td>\n",
       "      <td>9.0</td>\n",
       "      <td>1</td>\n",
       "    </tr>\n",
       "    <tr>\n",
       "      <th>...</th>\n",
       "      <td>...</td>\n",
       "      <td>...</td>\n",
       "      <td>...</td>\n",
       "      <td>...</td>\n",
       "      <td>...</td>\n",
       "      <td>...</td>\n",
       "      <td>...</td>\n",
       "      <td>...</td>\n",
       "      <td>...</td>\n",
       "      <td>...</td>\n",
       "      <td>...</td>\n",
       "      <td>...</td>\n",
       "    </tr>\n",
       "    <tr>\n",
       "      <th>D2889</th>\n",
       "      <td>17.1</td>\n",
       "      <td>13.3</td>\n",
       "      <td>61</td>\n",
       "      <td>1017.0</td>\n",
       "      <td>0.0</td>\n",
       "      <td>57</td>\n",
       "      <td>3</td>\n",
       "      <td>17.1</td>\n",
       "      <td>10.0</td>\n",
       "      <td>1.0</td>\n",
       "      <td>22.2</td>\n",
       "      <td>1</td>\n",
       "    </tr>\n",
       "    <tr>\n",
       "      <th>D2890</th>\n",
       "      <td>17.4</td>\n",
       "      <td>13.0</td>\n",
       "      <td>51</td>\n",
       "      <td>1017.0</td>\n",
       "      <td>0.0</td>\n",
       "      <td>49</td>\n",
       "      <td>0</td>\n",
       "      <td>17.4</td>\n",
       "      <td>10.0</td>\n",
       "      <td>1.0</td>\n",
       "      <td>22.2</td>\n",
       "      <td>1</td>\n",
       "    </tr>\n",
       "    <tr>\n",
       "      <th>D2891</th>\n",
       "      <td>19.2</td>\n",
       "      <td>11.5</td>\n",
       "      <td>46</td>\n",
       "      <td>1016.0</td>\n",
       "      <td>0.0</td>\n",
       "      <td>34</td>\n",
       "      <td>0</td>\n",
       "      <td>19.2</td>\n",
       "      <td>10.0</td>\n",
       "      <td>1.0</td>\n",
       "      <td>21.3</td>\n",
       "      <td>2</td>\n",
       "    </tr>\n",
       "    <tr>\n",
       "      <th>D2892</th>\n",
       "      <td>19.2</td>\n",
       "      <td>14.4</td>\n",
       "      <td>76</td>\n",
       "      <td>1017.0</td>\n",
       "      <td>0.0</td>\n",
       "      <td>45</td>\n",
       "      <td>2</td>\n",
       "      <td>19.2</td>\n",
       "      <td>10.0</td>\n",
       "      <td>1.0</td>\n",
       "      <td>24.9</td>\n",
       "      <td>2</td>\n",
       "    </tr>\n",
       "    <tr>\n",
       "      <th>D2893</th>\n",
       "      <td>18.6</td>\n",
       "      <td>17.3</td>\n",
       "      <td>61</td>\n",
       "      <td>1016.0</td>\n",
       "      <td>0.0</td>\n",
       "      <td>34</td>\n",
       "      <td>0</td>\n",
       "      <td>18.6</td>\n",
       "      <td>10.0</td>\n",
       "      <td>1.0</td>\n",
       "      <td>30.2</td>\n",
       "      <td>2</td>\n",
       "    </tr>\n",
       "  </tbody>\n",
       "</table>\n",
       "<p>2893 rows × 12 columns</p>\n",
       "</div>"
      ],
      "text/plain": [
       "        temperature_celsius  wind_kph  wind_degree  pressure_mb  precip_mm  \\\n",
       "day_id                                                                       \n",
       "D0001                  27.0       6.1          210       1006.0        0.0   \n",
       "D0002                  22.0       6.1          170       1006.0        0.0   \n",
       "D0003                  20.0       3.6           10       1011.0        4.5   \n",
       "D0004                  17.0       6.1          150       1018.0        0.0   \n",
       "D0005                  18.0       3.6           92       1019.0        0.0   \n",
       "...                     ...       ...          ...          ...        ...   \n",
       "D2889                  17.1      13.3           61       1017.0        0.0   \n",
       "D2890                  17.4      13.0           51       1017.0        0.0   \n",
       "D2891                  19.2      11.5           46       1016.0        0.0   \n",
       "D2892                  19.2      14.4           76       1017.0        0.0   \n",
       "D2893                  18.6      17.3           61       1016.0        0.0   \n",
       "\n",
       "        humidity  cloud  feels_like_celsius  visibility_km  uv_index  \\\n",
       "day_id                                                                 \n",
       "D0001         54     75                28.0           10.0       6.0   \n",
       "D0002         73     75                24.5           10.0       1.0   \n",
       "D0003        100     75                20.0           10.0       1.0   \n",
       "D0004         88      0                17.0           10.0       1.0   \n",
       "D0005         94      0                18.0           10.0       1.0   \n",
       "...          ...    ...                 ...            ...       ...   \n",
       "D2889         57      3                17.1           10.0       1.0   \n",
       "D2890         49      0                17.4           10.0       1.0   \n",
       "D2891         34      0                19.2           10.0       1.0   \n",
       "D2892         45      2                19.2           10.0       1.0   \n",
       "D2893         34      0                18.6           10.0       1.0   \n",
       "\n",
       "        gust_kph  air_quality_us-epa-index  \n",
       "day_id                                      \n",
       "D0001       11.9                         2  \n",
       "D0002       23.4                         1  \n",
       "D0003       12.6                         1  \n",
       "D0004       11.2                         1  \n",
       "D0005        9.0                         1  \n",
       "...          ...                       ...  \n",
       "D2889       22.2                         1  \n",
       "D2890       22.2                         1  \n",
       "D2891       21.3                         2  \n",
       "D2892       24.9                         2  \n",
       "D2893       30.2                         2  \n",
       "\n",
       "[2893 rows x 12 columns]"
      ]
     },
     "execution_count": 41,
     "metadata": {},
     "output_type": "execute_result"
    }
   ],
   "source": [
    "df3=df1[['temperature_celsius','wind_kph','wind_degree','pressure_mb','precip_mm','humidity','cloud','feels_like_celsius','visibility_km','uv_index','gust_kph','air_quality_us-epa-index']]\n",
    "df3"
   ]
  },
  {
   "cell_type": "code",
   "execution_count": 42,
   "id": "dbaa76e7",
   "metadata": {
    "execution": {
     "iopub.execute_input": "2024-06-23T15:04:41.859295Z",
     "iopub.status.busy": "2024-06-23T15:04:41.858834Z",
     "iopub.status.idle": "2024-06-23T15:04:41.869102Z",
     "shell.execute_reply": "2024-06-23T15:04:41.867972Z"
    },
    "papermill": {
     "duration": 0.057844,
     "end_time": "2024-06-23T15:04:41.872297",
     "exception": false,
     "start_time": "2024-06-23T15:04:41.814453",
     "status": "completed"
    },
    "tags": []
   },
   "outputs": [
    {
     "data": {
      "text/plain": [
       "temperature_celsius         0\n",
       "wind_kph                    0\n",
       "wind_degree                 0\n",
       "pressure_mb                 0\n",
       "precip_mm                   0\n",
       "humidity                    0\n",
       "cloud                       0\n",
       "feels_like_celsius          0\n",
       "visibility_km               0\n",
       "uv_index                    0\n",
       "gust_kph                    0\n",
       "air_quality_us-epa-index    0\n",
       "dtype: int64"
      ]
     },
     "execution_count": 42,
     "metadata": {},
     "output_type": "execute_result"
    }
   ],
   "source": [
    "df3.isnull().sum()"
   ]
  },
  {
   "cell_type": "code",
   "execution_count": 43,
   "id": "dd9fa0d1",
   "metadata": {
    "execution": {
     "iopub.execute_input": "2024-06-23T15:04:41.960277Z",
     "iopub.status.busy": "2024-06-23T15:04:41.959884Z",
     "iopub.status.idle": "2024-06-23T15:04:41.965957Z",
     "shell.execute_reply": "2024-06-23T15:04:41.964639Z"
    },
    "papermill": {
     "duration": 0.052951,
     "end_time": "2024-06-23T15:04:41.968622",
     "exception": false,
     "start_time": "2024-06-23T15:04:41.915671",
     "status": "completed"
    },
    "tags": []
   },
   "outputs": [],
   "source": [
    "df4=df3.values"
   ]
  },
  {
   "cell_type": "code",
   "execution_count": 44,
   "id": "231db319",
   "metadata": {
    "execution": {
     "iopub.execute_input": "2024-06-23T15:04:42.057271Z",
     "iopub.status.busy": "2024-06-23T15:04:42.056887Z",
     "iopub.status.idle": "2024-06-23T15:04:42.063967Z",
     "shell.execute_reply": "2024-06-23T15:04:42.062798Z"
    },
    "papermill": {
     "duration": 0.053658,
     "end_time": "2024-06-23T15:04:42.066544",
     "exception": false,
     "start_time": "2024-06-23T15:04:42.012886",
     "status": "completed"
    },
    "tags": []
   },
   "outputs": [
    {
     "data": {
      "text/plain": [
       "numpy.ndarray"
      ]
     },
     "execution_count": 44,
     "metadata": {},
     "output_type": "execute_result"
    }
   ],
   "source": [
    "type(df4)"
   ]
  },
  {
   "cell_type": "code",
   "execution_count": 45,
   "id": "790f9104",
   "metadata": {
    "execution": {
     "iopub.execute_input": "2024-06-23T15:04:42.156243Z",
     "iopub.status.busy": "2024-06-23T15:04:42.155865Z",
     "iopub.status.idle": "2024-06-23T15:04:42.448897Z",
     "shell.execute_reply": "2024-06-23T15:04:42.447838Z"
    },
    "id": "2z0VjOco1zhs",
    "papermill": {
     "duration": 0.340682,
     "end_time": "2024-06-23T15:04:42.451724",
     "exception": false,
     "start_time": "2024-06-23T15:04:42.111042",
     "status": "completed"
    },
    "tags": []
   },
   "outputs": [
    {
     "name": "stdout",
     "output_type": "stream",
     "text": [
      "\u001b[1m91/91\u001b[0m \u001b[32m━━━━━━━━━━━━━━━━━━━━\u001b[0m\u001b[37m\u001b[0m \u001b[1m0s\u001b[0m 2ms/step\n"
     ]
    }
   ],
   "source": [
    "# Make predictions for the entire dataset\n",
    "Y_pred_full = model.predict(df4)\n",
    "Y_pred_classes = np.argmax(Y_pred_full, axis=1)"
   ]
  },
  {
   "cell_type": "code",
   "execution_count": 46,
   "id": "475e7ca1",
   "metadata": {
    "execution": {
     "iopub.execute_input": "2024-06-23T15:04:42.542773Z",
     "iopub.status.busy": "2024-06-23T15:04:42.541327Z",
     "iopub.status.idle": "2024-06-23T15:04:42.548055Z",
     "shell.execute_reply": "2024-06-23T15:04:42.546790Z"
    },
    "id": "2z0VjOco1zhs",
    "papermill": {
     "duration": 0.055049,
     "end_time": "2024-06-23T15:04:42.551008",
     "exception": false,
     "start_time": "2024-06-23T15:04:42.495959",
     "status": "completed"
    },
    "tags": []
   },
   "outputs": [],
   "source": [
    "Y_pred_labels = label_encoder.inverse_transform(Y_pred_classes)"
   ]
  },
  {
   "cell_type": "code",
   "execution_count": 47,
   "id": "db6a69fe",
   "metadata": {
    "execution": {
     "iopub.execute_input": "2024-06-23T15:04:42.639150Z",
     "iopub.status.busy": "2024-06-23T15:04:42.638772Z",
     "iopub.status.idle": "2024-06-23T15:04:42.644791Z",
     "shell.execute_reply": "2024-06-23T15:04:42.643505Z"
    },
    "papermill": {
     "duration": 0.0535,
     "end_time": "2024-06-23T15:04:42.647783",
     "exception": false,
     "start_time": "2024-06-23T15:04:42.594283",
     "status": "completed"
    },
    "tags": []
   },
   "outputs": [
    {
     "name": "stdout",
     "output_type": "stream",
     "text": [
      "['Partly Cloudy' 'Partly Cloudy' 'Partly Cloudy' ... 'Clear and Sunny'\n",
      " 'Clear and Sunny' 'Clear and Sunny']\n"
     ]
    }
   ],
   "source": [
    "print(Y_pred_labels)"
   ]
  },
  {
   "cell_type": "code",
   "execution_count": 48,
   "id": "206821bc",
   "metadata": {
    "execution": {
     "iopub.execute_input": "2024-06-23T15:04:42.736747Z",
     "iopub.status.busy": "2024-06-23T15:04:42.736271Z",
     "iopub.status.idle": "2024-06-23T15:04:42.746183Z",
     "shell.execute_reply": "2024-06-23T15:04:42.745044Z"
    },
    "papermill": {
     "duration": 0.057716,
     "end_time": "2024-06-23T15:04:42.748904",
     "exception": false,
     "start_time": "2024-06-23T15:04:42.691188",
     "status": "completed"
    },
    "tags": []
   },
   "outputs": [
    {
     "data": {
      "text/plain": [
       "array(['Clear and Sunny', 'Partly Cloudy'], dtype=object)"
      ]
     },
     "execution_count": 48,
     "metadata": {},
     "output_type": "execute_result"
    }
   ],
   "source": [
    "np.unique(Y_pred_labels)"
   ]
  },
  {
   "cell_type": "code",
   "execution_count": 49,
   "id": "d14a7cf9",
   "metadata": {
    "execution": {
     "iopub.execute_input": "2024-06-23T15:04:42.839777Z",
     "iopub.status.busy": "2024-06-23T15:04:42.839331Z",
     "iopub.status.idle": "2024-06-23T15:04:42.854864Z",
     "shell.execute_reply": "2024-06-23T15:04:42.853664Z"
    },
    "id": "2z0VjOco1zhs",
    "papermill": {
     "duration": 0.063703,
     "end_time": "2024-06-23T15:04:42.857685",
     "exception": false,
     "start_time": "2024-06-23T15:04:42.793982",
     "status": "completed"
    },
    "tags": []
   },
   "outputs": [],
   "source": [
    "# Create a submission DataFrame\n",
    "submission = pd.DataFrame({\n",
    "    'day_id': df3.index,\n",
    "    'condition_text': Y_pred_labels\n",
    "})\n",
    "\n",
    "# Save the predictions to a CSV file\n",
    "submission.to_csv('submission.csv', index=False)"
   ]
  }
 ],
 "metadata": {
  "colab": {
   "collapsed_sections": [],
   "name": "Multiple Classificaiton using IRIS Dataset.ipynb",
   "provenance": []
  },
  "kaggle": {
   "accelerator": "none",
   "dataSources": [
    {
     "databundleVersionId": 8893623,
     "sourceId": 81888,
     "sourceType": "competition"
    }
   ],
   "dockerImageVersionId": 30732,
   "isGpuEnabled": false,
   "isInternetEnabled": false,
   "language": "python",
   "sourceType": "notebook"
  },
  "kernelspec": {
   "display_name": "Python 3",
   "language": "python",
   "name": "python3"
  },
  "language_info": {
   "codemirror_mode": {
    "name": "ipython",
    "version": 3
   },
   "file_extension": ".py",
   "mimetype": "text/x-python",
   "name": "python",
   "nbconvert_exporter": "python",
   "pygments_lexer": "ipython3",
   "version": "3.10.13"
  },
  "papermill": {
   "default_parameters": {},
   "duration": 37.027545,
   "end_time": "2024-06-23T15:04:44.728719",
   "environment_variables": {},
   "exception": null,
   "input_path": "__notebook__.ipynb",
   "output_path": "__notebook__.ipynb",
   "parameters": {},
   "start_time": "2024-06-23T15:04:07.701174",
   "version": "2.5.0"
  }
 },
 "nbformat": 4,
 "nbformat_minor": 5
}
